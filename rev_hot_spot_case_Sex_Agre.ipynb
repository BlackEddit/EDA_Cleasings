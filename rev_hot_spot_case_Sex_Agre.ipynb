{
 "cells": [
  {
   "cell_type": "code",
   "execution_count": 57,
   "metadata": {},
   "outputs": [
    {
     "data": {
      "text/plain": [
       "' \\nPor que se generon algunos NULL values\\n'"
      ]
     },
     "execution_count": 57,
     "metadata": {},
     "output_type": "execute_result"
    }
   ],
   "source": [
    "''' \n",
    "Por que se generon algunos NULL values\n",
    "'''"
   ]
  },
  {
   "cell_type": "code",
   "execution_count": 58,
   "metadata": {},
   "outputs": [],
   "source": [
    "import numpy as np\n",
    "import pandas as pd\n",
    "import matplotlib.pyplot as plt\n",
    "import seaborn as sns\n",
    "import tabulate"
   ]
  },
  {
   "cell_type": "code",
   "execution_count": 59,
   "metadata": {},
   "outputs": [],
   "source": [
    "df_poblacion_mex = pd.read_csv('Poblacion_Mexicana_Mod.csv')"
   ]
  },
  {
   "cell_type": "markdown",
   "metadata": {},
   "source": [
    "Dado que se presento Estado con 30, valores unicos pero su cuenta es de 32, asumo que hay valores duplicados"
   ]
  },
  {
   "cell_type": "code",
   "execution_count": 60,
   "metadata": {},
   "outputs": [
    {
     "data": {
      "text/plain": [
       "30"
      ]
     },
     "execution_count": 60,
     "metadata": {},
     "output_type": "execute_result"
    }
   ],
   "source": [
    "df_poblacion_mex.Estado.nunique()"
   ]
  },
  {
   "cell_type": "code",
   "execution_count": 61,
   "metadata": {},
   "outputs": [
    {
     "data": {
      "text/plain": [
       "32"
      ]
     },
     "execution_count": 61,
     "metadata": {},
     "output_type": "execute_result"
    }
   ],
   "source": [
    "\n",
    "df_poblacion_mex.Estado.count()"
   ]
  },
  {
   "cell_type": "code",
   "execution_count": 62,
   "metadata": {},
   "outputs": [
    {
     "name": "stdout",
     "output_type": "stream",
     "text": [
      "Valores duplicados en la lista de valores únicos:\n",
      "['Quintana Roo', 'Nayarit']\n"
     ]
    }
   ],
   "source": [
    "'''Revision y eliminacion de valores duplicados, en el area de los estados'''\n",
    "\n",
    "# 1. Obten los valores únicos de la columna y conviértelos en una lista\n",
    "valores_unicos = df_poblacion_mex['Estado'].unique()\n",
    "\n",
    "# 2. Verifica si hay valores duplicados en la lista de valores únicos\n",
    "duplicados = [item for item in valores_unicos if list(df_poblacion_mex['Estado']).count(item) > 1]\n",
    "\n",
    "# 3. Ahora, puedes imprimir los valores duplicados si los hay.\n",
    "if not duplicados:\n",
    "    print(\"No hay valores duplicados en la lista de valores únicos.\")\n",
    "else:\n",
    "    print(\"Valores duplicados en la lista de valores únicos:\")\n",
    "    print(duplicados)"
   ]
  },
  {
   "cell_type": "code",
   "execution_count": 63,
   "metadata": {},
   "outputs": [
    {
     "name": "stdout",
     "output_type": "stream",
     "text": [
      "30\n"
     ]
    }
   ],
   "source": [
    "\n",
    "# 1. Utiliza el método `duplicated()` para encontrar las filas duplicadas.\n",
    "filas_duplicadas = df_poblacion_mex[df_poblacion_mex['Estado'].duplicated()]\n",
    "\n",
    "# 2. Luego, puedes usar el método `drop()` para eliminar esas filas del DataFrame original.\n",
    "df_poblacion_mex_wo_duplicated = df_poblacion_mex.drop(filas_duplicadas.index)\n",
    "\n",
    "# 3. Ahora, df_sin_duplicados contendrá tu DataFrame original sin las filas que contenían valores duplicados.\n",
    "\n",
    "# Puedes imprimir df_sin_duplicados para verificar que se eliminaron las filas duplicadas.\n",
    "print(df_poblacion_mex_wo_duplicated.Estado.nunique())\n"
   ]
  },
  {
   "cell_type": "code",
   "execution_count": 64,
   "metadata": {},
   "outputs": [
    {
     "data": {
      "text/plain": [
       "array(['Aguascalientes', 'Baja California', 'Baja California Sur',\n",
       "       'Campeche', 'Coahuila de Zaragoza', 'Colima', 'Chiapas',\n",
       "       'Chihuahua', 'Estado de México', 'Morelos', 'Puebla', 'Tlaxcala',\n",
       "       'Querétaro', 'Guanajuato', 'Hidalgo', 'Veracruz', 'Tabasco',\n",
       "       'Quintana Roo', 'Sonora', 'Sinaloa', 'Nayarit', 'Durango',\n",
       "       'Zacatecas', 'Tamaulipas', 'San Luis Potosí', 'Guerrero', 'Oaxaca',\n",
       "       'Ciudad de México', 'Yucatán', 'Michoacán de Ocampo'], dtype=object)"
      ]
     },
     "execution_count": 64,
     "metadata": {},
     "output_type": "execute_result"
    }
   ],
   "source": [
    "df_poblacion_mex_wo_duplicated.Estado.unique()"
   ]
  },
  {
   "cell_type": "code",
   "execution_count": 67,
   "metadata": {},
   "outputs": [
    {
     "name": "stdout",
     "output_type": "stream",
     "text": [
      "       Estado         2015         2016         2017         2018  \\\n",
      "0      México  122,306,146  123,605,424  124,923,181  126,260,314   \n",
      "1  Nuevo León    5,119,504    5,232,816    5,349,155    5,468,579   \n",
      "\n",
      "          2019         2020         2021         2022         2023  \n",
      "0  127,618,337  128,932,489  130,268,777  131,628,541  132,999,898  \n",
      "1    5,591,148    5,784,442    5,971,213    6,161,499    6,355,642  \n"
     ]
    }
   ],
   "source": [
    "'''\n",
    "melt() se utiliza para \"derretir\" o \"apilar\" columnas. En este caso, usamos melt() \n",
    "para convertir las columnas 'México' y 'Nuevo León' en una sola columna llamada 'Estado', \n",
    "manteniendo la información de 'Año'. Esto crea un DataFrame largo con \n",
    "tres columnas: 'Año', 'Estado' y 'Valor'. Es más fácil trabajar con esta estructura para luego pivotear los datos.\n",
    "\n",
    "\n",
    "Pivotear: Una vez que tenemos el DataFrame derretido, utilizamos el método pivot() para girar las filas y las columnas. \n",
    "Esto nos permite tener los años como columnas y los valores de 'México' y 'Nuevo León' en las filas. El resultado es un \n",
    "DataFrame donde los años son columnas y 'México' y 'Nuevo León' se combinan en la columna 'Estado'.\n",
    "\n",
    "\n",
    "'''\n",
    "\n",
    "# Supongamos que tienes el DataFrame original con las columnas 'Año', 'México' y 'Nuevo León'\n",
    "data = {\n",
    "    'Año': [2015, 2016, 2017, 2018, 2019, 2020, 2021, 2022, 2023],\n",
    "    'México': ['122,306,146', '123,605,424', '124,923,181', '126,260,314', '127,618,337', '128,932,489', '130,268,777', '131,628,541', '132,999,898'],\n",
    "    'Nuevo León': ['5,119,504', '5,232,816', '5,349,155', '5,468,579', '5,591,148', '5,784,442', '5,971,213', '6,161,499', '6,355,642']\n",
    "}\n",
    "\n",
    "df_original = pd.DataFrame(data)\n",
    "#print(df_original)\n",
    "\n",
    "# 1. Derrite (melt) las columnas 'México' y 'Nuevo León' en una columna 'Estado'\n",
    "df_melted = pd.melt(df_original, id_vars=['Año'], var_name='Estado', value_name='Valor')\n",
    "#print(df_melted)\n",
    "\n",
    "# 2. Pivotea el DataFrame para tener los años como columnas\n",
    "df_pivoted = df_melted.pivot(index='Estado', columns='Año', values='Valor').reset_index()\n",
    "\n",
    "# 3. Cambia el nombre de las columnas para que sea más limpio\n",
    "df_pivoted.columns.name = None\n",
    "\n",
    "# 4. Verifica el DataFrame final\n",
    "print(df_pivoted)\n"
   ]
  },
  {
   "cell_type": "code",
   "execution_count": 69,
   "metadata": {},
   "outputs": [
    {
     "name": "stdout",
     "output_type": "stream",
     "text": [
      "                Estado     2015     2016     2017     2018     2019     2020  \\\n",
      "0       Aguascalientes  1326528  1348697  1371285  1394350  1417886  1441884   \n",
      "1      Baja California  3502091  3554774  3608038  3661896  3716360  3771441   \n",
      "2  Baja California Sur   762351   776706   791465   806637   822233   838264   \n",
      "\n",
      "      2021     2022     2023  \n",
      "0  1466342  1491262  1516648  \n",
      "1  3827153  3883494  3940467  \n",
      "2   854738   871659   888938  \n"
     ]
    }
   ],
   "source": [
    "'''Habia una columna estra;a llamada Unamed, no hacia nada asi que solo era practicamente una copia del idx'''\n",
    "# print(df_poblacion_mex_wo_duplicated.head(3))\n",
    "# print(df_pivoted.head(3))\n",
    "\n",
    "# to_delete = list(df_poblacion_mex_wo_duplicated.columns)\n",
    "# #print(to_delete[0])\n",
    "\n",
    "# df_poblacion_mex_wo_duplicated = df_poblacion_mex_wo_duplicated.drop(to_delete[0], axis = 1)\n",
    "\n",
    "# print(df_poblacion_mex_wo_duplicated.head(3))\n",
    "\n",
    "''' Solo fue necesario ejecutarlo una sola vez'''"
   ]
  },
  {
   "cell_type": "code",
   "execution_count": 70,
   "metadata": {},
   "outputs": [
    {
     "name": "stdout",
     "output_type": "stream",
     "text": [
      "       Estado         2015         2016         2017         2018  \\\n",
      "0      México  122,306,146  123,605,424  124,923,181  126,260,314   \n",
      "1  Nuevo León    5,119,504    5,232,816    5,349,155    5,468,579   \n",
      "\n",
      "          2019         2020         2021         2022         2023  \n",
      "0  127,618,337  128,932,489  130,268,777  131,628,541  132,999,898  \n",
      "1    5,591,148    5,784,442    5,971,213    6,161,499    6,355,642  \n"
     ]
    }
   ],
   "source": [
    "print(df_pivoted.head(3))"
   ]
  },
  {
   "cell_type": "code",
   "execution_count": 72,
   "metadata": {},
   "outputs": [
    {
     "name": "stdout",
     "output_type": "stream",
     "text": [
      "32\n"
     ]
    }
   ],
   "source": [
    "'''Union de los dos df '''\n",
    "df_new_pob_mex_with_states = pd.concat([df_poblacion_mex_wo_duplicated, df_pivoted], ignore_index= True)\n",
    "\n",
    "print(df_new_pob_mex_with_states.Estado.nunique())"
   ]
  },
  {
   "cell_type": "code",
   "execution_count": null,
   "metadata": {},
   "outputs": [],
   "source": []
  }
 ],
 "metadata": {
  "kernelspec": {
   "display_name": "Python 3",
   "language": "python",
   "name": "python3"
  },
  "language_info": {
   "codemirror_mode": {
    "name": "ipython",
    "version": 3
   },
   "file_extension": ".py",
   "mimetype": "text/x-python",
   "name": "python",
   "nbconvert_exporter": "python",
   "pygments_lexer": "ipython3",
   "version": "3.11.2"
  },
  "orig_nbformat": 4
 },
 "nbformat": 4,
 "nbformat_minor": 2
}
