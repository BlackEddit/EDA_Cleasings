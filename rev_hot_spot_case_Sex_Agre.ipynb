{
 "cells": [
  {
   "cell_type": "code",
   "execution_count": 183,
   "metadata": {},
   "outputs": [
    {
     "data": {
      "text/plain": [
       "' Consejos extra:'"
      ]
     },
     "execution_count": 183,
     "metadata": {},
     "output_type": "execute_result"
    }
   ],
   "source": [
    "''' \n",
    "    Archivos obtenidos:\n",
    "\n",
    "        'Poblacion_Mexicana_Anual.csv'\n",
    "        'Complet_Set_Abuse_&_pob_by_year.csv' ------------ Es el que estaremos usando ahorita.\n",
    "\n",
    "\n",
    "\n",
    "    Ideas al respecto:\n",
    "        Con SQL obtener la lista de los meses restantes para ver una validacion.\n",
    "'''\n",
    "\n",
    "''' \n",
    "    Consejos extra:\n",
    "\n",
    "        Recuerda usar sum, en lugar de count, sum si sirve para contar los valores Null count cuenta los registros\n",
    "        \n",
    "        Exactamente, df_poblacion_mex.isnull().count() te está devolviendo la cantidad de registros (filas) en cada columna de tu DataFrame, no la cantidad de valores nulos. \n",
    "        En este caso, tienes 32 registros en cada columna, que corresponden a los 32 estados de la república. Para contar los valores nulos, sería mejor utilizar \n",
    "'''"
   ]
  },
  {
   "cell_type": "code",
   "execution_count": 159,
   "metadata": {},
   "outputs": [],
   "source": [
    "# importe de librerias\n",
    "import numpy as np # manejo de dataframes y ese tipo de cosas, en otras palabras no sabemos para que es numpy\n",
    "import pandas as pd # Proporciona soporte para arrays (vectores y matrices)\n",
    "import matplotlib.pyplot as plt # Graficar nuestros dataframes\n",
    "import seaborn as sns # graficar nuestro dataframe\n",
    "import tabulate #Presentacion de listas o en la consola"
   ]
  },
  {
   "cell_type": "code",
   "execution_count": 160,
   "metadata": {},
   "outputs": [],
   "source": [
    "# Lectura de archivo csv\n",
    "\n",
    "df_poblacion_mex = pd.read_csv('Poblacion_Mexicana_Mod.csv')\n",
    "\n"
   ]
  },
  {
   "cell_type": "markdown",
   "metadata": {},
   "source": [
    "## Tratamiento de DF _ Poblacion Mexicana _ Duplicated Values and Missing Values"
   ]
  },
  {
   "cell_type": "code",
   "execution_count": 161,
   "metadata": {},
   "outputs": [
    {
     "data": {
      "text/plain": [
       "\"\\n1. Desde la lectura viene con una columna adiccional llamado Unnamed.\\n\\n2. Valores duplicados en nuestro df: 'Quintana Roo', 'Nayarit, lo cual nos deja con la ausencia de 2 estados con sus poblaciones por a;o\\n\\n3. Los tipos de datos no coincidieron en las columnas para su union, esto genera un problema ya que no se pueden unir de esta manera\\n\""
      ]
     },
     "execution_count": 161,
     "metadata": {},
     "output_type": "execute_result"
    }
   ],
   "source": [
    "'''\n",
    "1. Desde la lectura viene con una columna adiccional llamado Unnamed.\n",
    "\n",
    "2. Valores duplicados en nuestro df: 'Quintana Roo', 'Nayarit, lo cual nos deja con la ausencia de 2 estados con sus poblaciones por a;o\n",
    "\n",
    "3. Los tipos de datos no coincidieron en las columnas para su union, esto genera un problema ya que no se pueden unir de esta manera\n",
    "'''"
   ]
  },
  {
   "cell_type": "code",
   "execution_count": 162,
   "metadata": {},
   "outputs": [
    {
     "name": "stdout",
     "output_type": "stream",
     "text": [
      "   Unnamed: 0               Estado     2015     2016     2017     2018  \\\n",
      "0           0       Aguascalientes  1326528  1348697  1371285  1394350   \n",
      "1           1      Baja California  3502091  3554774  3608038  3661896   \n",
      "2           2  Baja California Sur   762351   776706   791465   806637   \n",
      "\n",
      "      2019     2020     2021     2022     2023  \n",
      "0  1417886  1441884  1466342  1491262  1516648  \n",
      "1  3716360  3771441  3827153  3883494  3940467  \n",
      "2   822233   838264   854738   871659   888938  \n"
     ]
    }
   ],
   "source": [
    "print(df_poblacion_mex.head(3))"
   ]
  },
  {
   "cell_type": "code",
   "execution_count": 197,
   "metadata": {},
   "outputs": [
    {
     "data": {
      "text/plain": [
       "Estado    32\n",
       "2015      32\n",
       "2016      32\n",
       "2017      32\n",
       "2018      32\n",
       "2019      32\n",
       "2020      32\n",
       "2021      32\n",
       "2022      32\n",
       "2023      32\n",
       "dtype: int64"
      ]
     },
     "execution_count": 197,
     "metadata": {},
     "output_type": "execute_result"
    }
   ],
   "source": [
    "df_poblacion_mex.isnull().count()\n",
    "# null_data = df_poblacion_mex[df_poblacion_mex.isnull().any(axis=1)]\n",
    "# null_data\n"
   ]
  },
  {
   "cell_type": "code",
   "execution_count": 163,
   "metadata": {},
   "outputs": [],
   "source": [
    "#Elimiancion de columna\n",
    "df_poblacion_mex.drop(columns=['Unnamed: 0'], inplace = True)"
   ]
  },
  {
   "cell_type": "code",
   "execution_count": 139,
   "metadata": {},
   "outputs": [
    {
     "name": "stdout",
     "output_type": "stream",
     "text": [
      "                Estado     2015     2016     2017     2018     2019     2020  \\\n",
      "0       Aguascalientes  1326528  1348697  1371285  1394350  1417886  1441884   \n",
      "1      Baja California  3502091  3554774  3608038  3661896  3716360  3771441   \n",
      "2  Baja California Sur   762351   776706   791465   806637   822233   838264   \n",
      "\n",
      "      2021     2022     2023  \n",
      "0  1466342  1491262  1516648  \n",
      "1  3827153  3883494  3940467  \n",
      "2   854738   871659   888938  \n"
     ]
    }
   ],
   "source": [
    "print(df_poblacion_mex.head(3))"
   ]
  },
  {
   "cell_type": "code",
   "execution_count": 164,
   "metadata": {},
   "outputs": [
    {
     "data": {
      "text/plain": [
       "30"
      ]
     },
     "execution_count": 164,
     "metadata": {},
     "output_type": "execute_result"
    }
   ],
   "source": [
    "# Tenemos 30 estados unicos, nos hacen falta 2\n",
    "df_poblacion_mex.Estado.nunique()"
   ]
  },
  {
   "cell_type": "code",
   "execution_count": 165,
   "metadata": {},
   "outputs": [
    {
     "data": {
      "text/plain": [
       "32"
      ]
     },
     "execution_count": 165,
     "metadata": {},
     "output_type": "execute_result"
    }
   ],
   "source": [
    "# Existen duplicados 30 != de 32 de echo hay dos duplicados\n",
    "df_poblacion_mex.Estado.count()"
   ]
  },
  {
   "cell_type": "code",
   "execution_count": 166,
   "metadata": {},
   "outputs": [
    {
     "name": "stdout",
     "output_type": "stream",
     "text": [
      "Valores duplicados en la lista de valores únicos:\n",
      "['Quintana Roo', 'Nayarit']\n"
     ]
    }
   ],
   "source": [
    "'''Revision y eliminacion de valores duplicados, en el area de los estados'''\n",
    "\n",
    "# 1. Obten los valores únicos de la columna y conviértelos en una lista\n",
    "valores_unicos = df_poblacion_mex['Estado'].unique()\n",
    "\n",
    "# 2. Verifica si hay valores duplicados en la lista de valores únicos\n",
    "# en otras palabras verifica si hay mas de una coincidencia que lo agrege a la list comprehention\n",
    "duplicados = [item for item in valores_unicos if list(df_poblacion_mex['Estado']).count(item) > 1]\n",
    "\n",
    "# 3. Ahora, puedes imprimir los valores duplicados si los hay.\n",
    "if not duplicados:\n",
    "    print(\"No hay valores duplicados en la lista de valores únicos.\")\n",
    "else:\n",
    "    print(\"Valores duplicados en la lista de valores únicos:\")\n",
    "    print(duplicados)"
   ]
  },
  {
   "cell_type": "code",
   "execution_count": 167,
   "metadata": {},
   "outputs": [
    {
     "name": "stdout",
     "output_type": "stream",
     "text": [
      "30\n"
     ]
    }
   ],
   "source": [
    "\n",
    "# 1. Utiliza el método `duplicated()` para encontrar las filas duplicadas.\n",
    "filas_duplicadas = df_poblacion_mex[df_poblacion_mex['Estado'].duplicated()]\n",
    "#print(filas_duplicadas.head(3))\n",
    "\n",
    "# 2. Luego, puedes usar el método `drop()` para eliminar esas filas del DataFrame original.\n",
    "df_poblacion_mex_wo_duplicated = df_poblacion_mex.drop(filas_duplicadas.index)\n",
    "\n",
    "# 3. Ahora, df_sin_duplicados contendrá tu DataFrame original sin las filas que contenían valores duplicados.\n",
    "\n",
    "# Puedes imprimir df_sin_duplicados para verificar que se eliminaron las filas duplicadas. ya coinciden ambas cantidades de valores 30 - 30\n",
    "print(df_poblacion_mex_wo_duplicated.Estado.nunique())\n"
   ]
  },
  {
   "cell_type": "code",
   "execution_count": 168,
   "metadata": {},
   "outputs": [
    {
     "name": "stdout",
     "output_type": "stream",
     "text": [
      "       Estado         2015         2016         2017         2018  \\\n",
      "0      México  122,306,146  123,605,424  124,923,181  126,260,314   \n",
      "1  Nuevo León    5,119,504    5,232,816    5,349,155    5,468,579   \n",
      "\n",
      "          2019         2020         2021         2022         2023  \n",
      "0  127,618,337  128,932,489  130,268,777  131,628,541  132,999,898  \n",
      "1    5,591,148    5,784,442    5,971,213    6,161,499    6,355,642  \n"
     ]
    }
   ],
   "source": [
    "'''\n",
    "melt() se utiliza para \"derretir\" o \"apilar\" columnas, \n",
    "manteniendo la información de 'Año'. Esto crea un DataFrame largo con \n",
    "tres columnas: 'Año', 'Estado' y 'Valor'. Es más fácil trabajar con esta estructura para luego pivotear los datos. --- [por como esta estructurado nuestro set de datos]\n",
    "\n",
    "\n",
    "Pivotear: Una vez que tenemos el DataFrame derretido, utilizamos el método pivot() para girar las filas y las columnas. \n",
    "Esto nos permite tener los años como columnas y los valores de 'México' y 'Nuevo León' en las filas. El resultado es un \n",
    "DataFrame donde los años son columnas y 'México' y 'Nuevo León' se combinan en la columna 'Estado'.\n",
    "\n",
    "\n",
    "'''\n",
    "\n",
    "# Supongamos que tienes el DataFrame original con las columnas 'Año', 'México' y 'Nuevo León'\n",
    "data = {\n",
    "    'Año': [2015, 2016, 2017, 2018, 2019, 2020, 2021, 2022, 2023],\n",
    "    'México': ['122,306,146', '123,605,424', '124,923,181', '126,260,314', '127,618,337', '128,932,489', '130,268,777', '131,628,541', '132,999,898'],\n",
    "    'Nuevo León': ['5,119,504', '5,232,816', '5,349,155', '5,468,579', '5,591,148', '5,784,442', '5,971,213', '6,161,499', '6,355,642']\n",
    "}\n",
    "\n",
    "df_original = pd.DataFrame(data)\n",
    "#print(df_original)\n",
    "\n",
    "# 1. Derrite (melt) las columnas 'México' y 'Nuevo León' en una columna 'Estado'\n",
    "df_melted = pd.melt(df_original, id_vars=['Año'], var_name='Estado', value_name='Valor')\n",
    "#print(df_melted)\n",
    "\n",
    "# 2. Pivotea el DataFrame para tener los años como columnas\n",
    "df_pivoted = df_melted.pivot(index='Estado', columns='Año', values='Valor').reset_index()\n",
    "\n",
    "# 3. Cambia el nombre de las columnas para que sea más limpio\n",
    "df_pivoted.columns.name = None\n",
    "\n",
    "# 4. Verifica el DataFrame final\n",
    "print(df_pivoted)\n"
   ]
  },
  {
   "cell_type": "code",
   "execution_count": 169,
   "metadata": {},
   "outputs": [],
   "source": [
    "#renombramos las columnas estado - estado, para hacer el join vertical\n",
    "df_pivoted = df_pivoted.rename(columns= {'Estado' : 'State'})"
   ]
  },
  {
   "cell_type": "code",
   "execution_count": 170,
   "metadata": {},
   "outputs": [],
   "source": [
    "#renombramos las columnas estado - estado, para hacer el join vertical\n",
    "df_poblacion_mex_wo_duplicated = df_poblacion_mex_wo_duplicated.rename(columns= {'Estado': 'State'})"
   ]
  },
  {
   "cell_type": "code",
   "execution_count": 171,
   "metadata": {},
   "outputs": [
    {
     "name": "stdout",
     "output_type": "stream",
     "text": [
      "False\n"
     ]
    },
    {
     "data": {
      "text/plain": [
       "'Entrega un false lo cual nos indica, que las nombres o variables son diferentes'"
      ]
     },
     "execution_count": 171,
     "metadata": {},
     "output_type": "execute_result"
    }
   ],
   "source": [
    "# Verificación de coincidencia de claves\n",
    "print(df_pivoted['State'].isin(df_poblacion_mex_wo_duplicated['State']).all())  # Debería imprimir True si todas las claves coinciden\n",
    "\n",
    "'''Entrega un false lo cual nos indica, que las nombres o variables son diferentes'''"
   ]
  },
  {
   "cell_type": "code",
   "execution_count": 172,
   "metadata": {},
   "outputs": [
    {
     "name": "stdout",
     "output_type": "stream",
     "text": [
      "State    0\n",
      "2015     0\n",
      "2016     0\n",
      "2017     0\n",
      "2018     0\n",
      "2019     0\n",
      "2020     0\n",
      "2021     0\n",
      "2022     0\n",
      "2023     0\n",
      "dtype: int64\n",
      "State    0\n",
      "2015     0\n",
      "2016     0\n",
      "2017     0\n",
      "2018     0\n",
      "2019     0\n",
      "2020     0\n",
      "2021     0\n",
      "2022     0\n",
      "2023     0\n",
      "dtype: int64\n"
     ]
    }
   ],
   "source": [
    "#revision previa para comprobar que estan bien ambos dataframes antes de unir\n",
    "\n",
    "print(df_poblacion_mex_wo_duplicated.isna().sum())\n",
    "print(df_pivoted.isna().sum())\n",
    "\n",
    "#ambos parecen no tener Na values, entonces no deberia haber problemas"
   ]
  },
  {
   "cell_type": "code",
   "execution_count": 173,
   "metadata": {},
   "outputs": [
    {
     "name": "stdout",
     "output_type": "stream",
     "text": [
      "                 State     2015     2016     2017     2018     2019     2020  \\\n",
      "0       Aguascalientes  1326528  1348697  1371285  1394350  1417886  1441884   \n",
      "1      Baja California  3502091  3554774  3608038  3661896  3716360  3771441   \n",
      "2  Baja California Sur   762351   776706   791465   806637   822233   838264   \n",
      "\n",
      "      2021     2022     2023  \n",
      "0  1466342  1491262  1516648  \n",
      "1  3827153  3883494  3940467  \n",
      "2   854738   871659   888938  \n",
      "        State         2015         2016         2017         2018  \\\n",
      "0      México  122,306,146  123,605,424  124,923,181  126,260,314   \n",
      "1  Nuevo León    5,119,504    5,232,816    5,349,155    5,468,579   \n",
      "\n",
      "          2019         2020         2021         2022         2023  \n",
      "0  127,618,337  128,932,489  130,268,777  131,628,541  132,999,898  \n",
      "1    5,591,148    5,784,442    5,971,213    6,161,499    6,355,642  \n"
     ]
    }
   ],
   "source": [
    "#evaluar los conjuntos:\n",
    "print(df_poblacion_mex_wo_duplicated.head(3))\n",
    "print(df_pivoted.head(3))"
   ]
  },
  {
   "cell_type": "code",
   "execution_count": 174,
   "metadata": {},
   "outputs": [
    {
     "ename": "AssertionError",
     "evalue": "Las columnas no coinciden",
     "output_type": "error",
     "traceback": [
      "\u001b[1;31m---------------------------------------------------------------------------\u001b[0m",
      "\u001b[1;31mAssertionError\u001b[0m                            Traceback (most recent call last)",
      "\u001b[1;32mc:\\Users\\Edgar\\OneDrive\\Escritorio\\Data_and_ML\\Data_Analyst\\EDA\\rev_hot_spot_case_Sex_Agre.ipynb Cell 19\u001b[0m line \u001b[0;36m3\n\u001b[0;32m      <a href='vscode-notebook-cell:/c%3A/Users/Edgar/OneDrive/Escritorio/Data_and_ML/Data_Analyst/EDA/rev_hot_spot_case_Sex_Agre.ipynb#X20sZmlsZQ%3D%3D?line=0'>1</a>\u001b[0m \u001b[39m# Verificar que las columnas sean las mismas\u001b[39;00m\n\u001b[0;32m      <a href='vscode-notebook-cell:/c%3A/Users/Edgar/OneDrive/Escritorio/Data_and_ML/Data_Analyst/EDA/rev_hot_spot_case_Sex_Agre.ipynb#X20sZmlsZQ%3D%3D?line=1'>2</a>\u001b[0m \u001b[39m# assert revisa una condicion, si la condicion es falza assert envia un error\u001b[39;00m\n\u001b[1;32m----> <a href='vscode-notebook-cell:/c%3A/Users/Edgar/OneDrive/Escritorio/Data_and_ML/Data_Analyst/EDA/rev_hot_spot_case_Sex_Agre.ipynb#X20sZmlsZQ%3D%3D?line=2'>3</a>\u001b[0m \u001b[39massert\u001b[39;00m \u001b[39mlist\u001b[39m(df_poblacion_mex_wo_duplicated\u001b[39m.\u001b[39mcolumns) \u001b[39m==\u001b[39m \u001b[39mlist\u001b[39m(df_pivoted\u001b[39m.\u001b[39mcolumns), \u001b[39m\"\u001b[39m\u001b[39mLas columnas no coinciden\u001b[39m\u001b[39m\"\u001b[39m\n\u001b[0;32m      <a href='vscode-notebook-cell:/c%3A/Users/Edgar/OneDrive/Escritorio/Data_and_ML/Data_Analyst/EDA/rev_hot_spot_case_Sex_Agre.ipynb#X20sZmlsZQ%3D%3D?line=4'>5</a>\u001b[0m \u001b[39m# nuestros nombres de columnas no coinciden\u001b[39;00m\n",
      "\u001b[1;31mAssertionError\u001b[0m: Las columnas no coinciden"
     ]
    }
   ],
   "source": [
    "# Verificar que las columnas sean las mismas\n",
    "# assert revisa una condicion, si la condicion es falza assert envia un error\n",
    "assert list(df_poblacion_mex_wo_duplicated.columns) == list(df_pivoted.columns), \"Las columnas no coinciden\"\n",
    "\n",
    "# nuestros nombres de columnas no coinciden"
   ]
  },
  {
   "cell_type": "code",
   "execution_count": 175,
   "metadata": {},
   "outputs": [
    {
     "ename": "AssertionError",
     "evalue": "Los tipos de datos no coinciden",
     "output_type": "error",
     "traceback": [
      "\u001b[1;31m---------------------------------------------------------------------------\u001b[0m",
      "\u001b[1;31mAssertionError\u001b[0m                            Traceback (most recent call last)",
      "\u001b[1;32mc:\\Users\\Edgar\\OneDrive\\Escritorio\\Data_and_ML\\Data_Analyst\\EDA\\rev_hot_spot_case_Sex_Agre.ipynb Cell 20\u001b[0m line \u001b[0;36m2\n\u001b[0;32m      <a href='vscode-notebook-cell:/c%3A/Users/Edgar/OneDrive/Escritorio/Data_and_ML/Data_Analyst/EDA/rev_hot_spot_case_Sex_Agre.ipynb#Y110sZmlsZQ%3D%3D?line=0'>1</a>\u001b[0m \u001b[39m# # Verificar que los tipos de datos sean los mismos\u001b[39;00m\n\u001b[1;32m----> <a href='vscode-notebook-cell:/c%3A/Users/Edgar/OneDrive/Escritorio/Data_and_ML/Data_Analyst/EDA/rev_hot_spot_case_Sex_Agre.ipynb#Y110sZmlsZQ%3D%3D?line=1'>2</a>\u001b[0m \u001b[39massert\u001b[39;00m \u001b[39mlist\u001b[39m(df_poblacion_mex_wo_duplicated\u001b[39m.\u001b[39mdtypes) \u001b[39m==\u001b[39m \u001b[39mlist\u001b[39m(df_pivoted\u001b[39m.\u001b[39mdtypes), \u001b[39m\"\u001b[39m\u001b[39mLos tipos de datos no coinciden\u001b[39m\u001b[39m\"\u001b[39m\n",
      "\u001b[1;31mAssertionError\u001b[0m: Los tipos de datos no coinciden"
     ]
    }
   ],
   "source": [
    "# # Verificar que los tipos de datos sean los mismos\n",
    "assert list(df_poblacion_mex_wo_duplicated.dtypes) == list(df_pivoted.dtypes), \"Los tipos de datos no coinciden\"\n"
   ]
  },
  {
   "cell_type": "code",
   "execution_count": 185,
   "metadata": {},
   "outputs": [],
   "source": [
    "# # correcion para tener el mismo tipo de de valor en las columas:\n",
    "# for column in df_poblacion_mex_wo_duplicated.columns:\n",
    "#     df_poblacion_mex_wo_duplicated[column] = df_poblacion_mex_wo_duplicated[column].astype(df_pivoted[column].dtype)\n",
    "''' Aqui es donde estamos haciendo cambios'''\n",
    "# print(df_pivoted.dtypes)\n",
    "# print(df_poblacion_mex_wo_duplicate.dtypes)\n",
    "\n",
    "for column in df_pivoted.columns[1:]:  # Itera sobre cada columna excepto la primera\n",
    "    df_pivoted[column] = df_pivoted[column].str.replace(',', '')  # Elimina las comas de los valores\n",
    "    df_pivoted[column] = df_pivoted[column].astype('int64')  # Convierte los valores a enteros (int64)\n",
    "\n",
    "\n"
   ]
  },
  {
   "cell_type": "code",
   "execution_count": 186,
   "metadata": {},
   "outputs": [
    {
     "name": "stdout",
     "output_type": "stream",
     "text": [
      "Columnas en df_poblacion_mex_wo_duplicated pero no en df_pivoted: set()\n",
      "Columnas en df_pivoted pero no en df_poblacion_mex_wo_duplicated: set()\n"
     ]
    }
   ],
   "source": [
    "'''Otra forma de validacion de decir que no son lo mismo aun que lo parezcan'''\n",
    "\n",
    "# Obtén los nombres de las columnas de ambos DataFrames\n",
    "columns_df_poblacion = set(df_poblacion_mex_wo_duplicated.columns)\n",
    "columns_df_pivoted = set(df_pivoted.columns)\n",
    "\n",
    "# Encuentra las columnas que están en df_poblacion_mex_wo_duplicated pero no en df_pivoted\n",
    "columns_in_df_poblacion_not_in_df_pivoted = columns_df_poblacion - columns_df_pivoted\n",
    "print(\"Columnas en df_poblacion_mex_wo_duplicated pero no en df_pivoted:\", columns_in_df_poblacion_not_in_df_pivoted)\n",
    "\n",
    "# Encuentra las columnas que están en df_pivoted pero no en df_poblacion_mex_wo_duplicated\n",
    "columns_in_df_pivoted_not_in_df_poblacion = columns_df_pivoted - columns_df_poblacion\n",
    "print(\"Columnas en df_pivoted pero no en df_poblacion_mex_wo_duplicated:\", columns_in_df_pivoted_not_in_df_poblacion)\n"
   ]
  },
  {
   "cell_type": "code",
   "execution_count": 187,
   "metadata": {},
   "outputs": [
    {
     "name": "stdout",
     "output_type": "stream",
     "text": [
      "State    object\n",
      "2015      int64\n",
      "2016      int64\n",
      "2017      int64\n",
      "2018      int64\n",
      "2019      int64\n",
      "2020      int64\n",
      "2021      int64\n",
      "2022      int64\n",
      "2023      int64\n",
      "dtype: object\n",
      "State    object\n",
      "2015      int64\n",
      "2016      int64\n",
      "2017      int64\n",
      "2018      int64\n",
      "2019      int64\n",
      "2020      int64\n",
      "2021      int64\n",
      "2022      int64\n",
      "2023      int64\n",
      "dtype: object\n"
     ]
    }
   ],
   "source": [
    "print(df_poblacion_mex_wo_duplicated.dtypes)\n",
    "print(df_pivoted.dtypes)"
   ]
  },
  {
   "cell_type": "code",
   "execution_count": 188,
   "metadata": {},
   "outputs": [],
   "source": [
    "# Convertir los nombres de las columnas de años a strings en df_pivoted\n",
    "df_pivoted.columns = df_pivoted.columns.astype(str)\n",
    "\n",
    "# O convertir los nombres de las columnas de años a strings en df_poblacion_mex_wo_duplicated\n",
    "df_poblacion_mex_wo_duplicated.columns = df_poblacion_mex_wo_duplicated.columns.astype(str)\n",
    "\n",
    "# Ahora puedes verificar nuevamente si las columnas coinciden\n",
    "assert (df_poblacion_mex_wo_duplicated.columns == df_pivoted.columns).all(), \"Las columnas no coinciden\"\n"
   ]
  },
  {
   "cell_type": "code",
   "execution_count": 189,
   "metadata": {},
   "outputs": [
    {
     "name": "stdout",
     "output_type": "stream",
     "text": [
      "                   State       2015       2016       2017       2018  \\\n",
      "0         Aguascalientes    1326528    1348697    1371285    1394350   \n",
      "1        Baja California    3502091    3554774    3608038    3661896   \n",
      "2    Baja California Sur     762351     776706     791465     806637   \n",
      "3               Campeche     859032     875168     891716     908687   \n",
      "4   Coahuila de Zaragoza    3079223    3114104    3149407    3185136   \n",
      "5                 Colima     727178     740378     753948     767904   \n",
      "6                Chiapas    4799490    4862143    4925280    4988909   \n",
      "7              Chihuahua    3666388    3714980    3763988    3813422   \n",
      "8       Estado de México   16602814   16953292   17309958   17673034   \n",
      "9                Morelos    1776436    1814209    1852550    1891488   \n",
      "10                Puebla    5641396    5743441    5846835    5951592   \n",
      "11              Tlaxcala    1346631    1374745    1399680    1422442   \n",
      "12             Querétaro    1902207    1942555    1983521    2025121   \n",
      "13            Guanajuato    5885373    5985927    6087704    6190712   \n",
      "14               Hidalgo    2864331    2918655    2974242    3031110   \n",
      "15              Veracruz    8029698    8170987    8313970    8458663   \n",
      "16               Tabasco    2319894    2359238    2399544    2440822   \n",
      "17          Quintana Roo    1757442    1800786    1844992    1889972   \n",
      "18                Sonora    2930134    2976689    3023994    3072058   \n",
      "19               Sinaloa    2942827    2990933    3039778    3089372   \n",
      "20               Nayarit    1255046    1278355    1302211    1326622   \n",
      "21               Durango    1853541    1889945    1926928    1964499   \n",
      "22             Zacatecas    1580985    1618615    1656882    1695795   \n",
      "23            Tamaulipas    3506779    3559428    3612722    3666669   \n",
      "24       San Luis Potosí    2834271    2888329    2942942    2998119   \n",
      "25              Guerrero    3540685    3604741    3669364    3734563   \n",
      "26                Oaxaca    4132148    4197314    4263060    4329394   \n",
      "27      Ciudad de México    8972590    9115203    9258481    9402434   \n",
      "28               Yucatán    2248160    2287037    2326779    2367396   \n",
      "29   Michoacán de Ocampo    4564123    4638956    4714113    4789592   \n",
      "30                México  122306146  123605424  124923181  126260314   \n",
      "31            Nuevo León    5119504    5232816    5349155    5468579   \n",
      "\n",
      "         2019       2020       2021       2022       2023  \n",
      "0     1417886    1441884    1466342    1491262    1516648  \n",
      "1     3716360    3771441    3827153    3883494    3940467  \n",
      "2      822233     838264     854738     871659     888938  \n",
      "3      926090     943936     962235     980991     999211  \n",
      "4     3221301    3257903    3294948    3332441    3370386  \n",
      "5      782252     796998     812146     827699     843662  \n",
      "6     5053034    5117663    5182804    5248461    5314638  \n",
      "7     3863292    3913607    3964379    4015618    4067333  \n",
      "8    18042640   18419010   18799376   19183995   19572128  \n",
      "9     1930942    1970936    2011492    2052537    2094094  \n",
      "10    6057725    6165248    6274175    6384526    6496324  \n",
      "11    1443140    1462879    1482766    1503012    1523729  \n",
      "12    2067365    2110267    2153840    2198097    2243056  \n",
      "13    6294960    6399464    6504236    6609300    6714674  \n",
      "14    3089273    3148748    3209554    3271710    3335230  \n",
      "15    8605080    8753236    8903144    9054820    9208280  \n",
      "16    2483082    2526334    2570586    2615850    2662134  \n",
      "17    1935736    1982294    2029656    2077832    2126832  \n",
      "18    3120891    3170499    3220892    3272079    3324070  \n",
      "19    3139723    3190840    3242731    3295406    3348874  \n",
      "20    1351597    1377146    1403277    1429999    1457322  \n",
      "21    2002668    2041444    2080837    2120856    2161511  \n",
      "22    1735364    1775598    1816506    1858100    1900388  \n",
      "23    3721280    3776564    3832530    3889188    3946548  \n",
      "24    3053869    3110202    3167127    3224654    3282794  \n",
      "25    3799347    3864726    3930709    3997295    4064494  \n",
      "26    4396326    4463864    4531917    4599494    4667604  \n",
      "27    9547070    9692400    9838433    9985178   10132644  \n",
      "28    2408895    2451286    2494576    2538774    2583884  \n",
      "29    4865401    4941546    5018034    5094864    5172042  \n",
      "30  127618337  128932489  130268777  131628541  132999898  \n",
      "31    5591148    5784442    5971213    6161499    6355642  \n"
     ]
    }
   ],
   "source": [
    "# Asegúrate de que ambos DataFrames tengan las mismas columnas\n",
    "assert (df_poblacion_mex_wo_duplicated.columns == df_pivoted.columns).all(), \"Las columnas no coinciden\"\n",
    "\n",
    "# Une los DataFrames verticalmente\n",
    "combined_df = pd.concat([df_poblacion_mex_wo_duplicated, df_pivoted], ignore_index=True)\n",
    "\n",
    "# Verifica el DataFrame combinado\n",
    "print(combined_df)\n",
    "\n",
    "combined_df.to_csv('Poblacion_Mexicana_Anual.csv', index = False)"
   ]
  },
  {
   "cell_type": "code",
   "execution_count": 190,
   "metadata": {},
   "outputs": [
    {
     "data": {
      "text/plain": [
       "State    32\n",
       "2015     32\n",
       "2016     32\n",
       "2017     32\n",
       "2018     32\n",
       "2019     32\n",
       "2020     32\n",
       "2021     32\n",
       "2022     32\n",
       "2023     32\n",
       "dtype: int64"
      ]
     },
     "execution_count": 190,
     "metadata": {},
     "output_type": "execute_result"
    }
   ],
   "source": [
    "# recuerda usar count en lugar de sum haha\n",
    "combined_df.isnull().count()"
   ]
  },
  {
   "cell_type": "code",
   "execution_count": null,
   "metadata": {},
   "outputs": [],
   "source": []
  },
  {
   "cell_type": "markdown",
   "metadata": {},
   "source": [
    "# Tratamiento de DF_ Sex_ Agression"
   ]
  },
  {
   "cell_type": "markdown",
   "metadata": {},
   "source": [
    "'''Cambios realizados:\n",
    "\n",
    "    1. Nombre de columnas\n",
    "    2. Nombres de variables, algunas contenian caracteres especiales / desconocidos que nos daban problemas\n",
    "    3. Mapeo de meses para converison o data engineer genearcion de columna date con mes y a;o\n",
    "    \n",
    "'''"
   ]
  },
  {
   "cell_type": "code",
   "execution_count": 92,
   "metadata": {},
   "outputs": [],
   "source": [
    "df_sex_agresion =  pd.read_csv('sexual_agre_cleaned.csv')\n"
   ]
  },
  {
   "cell_type": "code",
   "execution_count": 93,
   "metadata": {},
   "outputs": [
    {
     "data": {
      "text/plain": [
       "(12089, 6)"
      ]
     },
     "execution_count": 93,
     "metadata": {},
     "output_type": "execute_result"
    }
   ],
   "source": [
    "df_sex_agresion.shape\n",
    "#  12089 - 6"
   ]
  },
  {
   "cell_type": "code",
   "execution_count": 94,
   "metadata": {},
   "outputs": [
    {
     "name": "stdout",
     "output_type": "stream",
     "text": [
      "    A_o  Estado         Tipo_de_abuso      Subtipo_de_Abuso    Mes  Valor\n",
      "0  2015  Puebla          Acoso sexual          Acoso sexual  Enero     11\n",
      "1  2015  Puebla  Hostigamiento sexual  Hostigamiento sexual  Enero      1\n",
      "2  2015  Puebla      Violaci�n simple      Violaci�n simple  Enero     43\n"
     ]
    }
   ],
   "source": [
    "print(df_sex_agresion.head(3))"
   ]
  },
  {
   "cell_type": "code",
   "execution_count": 112,
   "metadata": {},
   "outputs": [],
   "source": [
    "#cambio de las variables o nombres de los tipos de abuso\n",
    "df_sex_agresion['Type_of_abuse'] = df_sex_agresion['Type_of_abuse'].replace('Violaci�n simple', 'Violacion simple')\n",
    "df_sex_agresion['Type_of_abuse'] = df_sex_agresion['Type_of_abuse'].replace('Violaci�n equiparada', 'Violacion Equiparada')"
   ]
  },
  {
   "cell_type": "code",
   "execution_count": 113,
   "metadata": {},
   "outputs": [
    {
     "ename": "KeyError",
     "evalue": "\"['Subtipo_de_Abuso'] not found in axis\"",
     "output_type": "error",
     "traceback": [
      "\u001b[1;31m---------------------------------------------------------------------------\u001b[0m",
      "\u001b[1;31mKeyError\u001b[0m                                  Traceback (most recent call last)",
      "\u001b[1;32mc:\\Users\\Edgar\\OneDrive\\Escritorio\\Data_and_ML\\Data_Analyst\\EDA\\rev_hot_spot_case_Sex_Agre.ipynb Cell 32\u001b[0m line \u001b[0;36m1\n\u001b[0;32m      <a href='vscode-notebook-cell:/c%3A/Users/Edgar/OneDrive/Escritorio/Data_and_ML/Data_Analyst/EDA/rev_hot_spot_case_Sex_Agre.ipynb#X33sZmlsZQ%3D%3D?line=6'>7</a>\u001b[0m df_sex_agresion \u001b[39m=\u001b[39m df_sex_agresion\u001b[39m.\u001b[39mrename(columns\u001b[39m=\u001b[39m{\u001b[39m'\u001b[39m\u001b[39mValor\u001b[39m\u001b[39m'\u001b[39m : \u001b[39m'\u001b[39m\u001b[39mCount\u001b[39m\u001b[39m'\u001b[39m})\n\u001b[0;32m     <a href='vscode-notebook-cell:/c%3A/Users/Edgar/OneDrive/Escritorio/Data_and_ML/Data_Analyst/EDA/rev_hot_spot_case_Sex_Agre.ipynb#X33sZmlsZQ%3D%3D?line=9'>10</a>\u001b[0m \u001b[39m#Drop de subtipo_ya que es igual a tipo\u001b[39;00m\n\u001b[1;32m---> <a href='vscode-notebook-cell:/c%3A/Users/Edgar/OneDrive/Escritorio/Data_and_ML/Data_Analyst/EDA/rev_hot_spot_case_Sex_Agre.ipynb#X33sZmlsZQ%3D%3D?line=10'>11</a>\u001b[0m df_sex_agresion \u001b[39m=\u001b[39m df_sex_agresion\u001b[39m.\u001b[39;49mdrop(columns\u001b[39m=\u001b[39;49m \u001b[39m'\u001b[39;49m\u001b[39mSubtipo_de_Abuso\u001b[39;49m\u001b[39m'\u001b[39;49m)\n",
      "File \u001b[1;32mc:\\Users\\Edgar\\AppData\\Local\\Programs\\Python\\Python311\\Lib\\site-packages\\pandas\\core\\frame.py:5258\u001b[0m, in \u001b[0;36mDataFrame.drop\u001b[1;34m(self, labels, axis, index, columns, level, inplace, errors)\u001b[0m\n\u001b[0;32m   5110\u001b[0m \u001b[39mdef\u001b[39;00m \u001b[39mdrop\u001b[39m(\n\u001b[0;32m   5111\u001b[0m     \u001b[39mself\u001b[39m,\n\u001b[0;32m   5112\u001b[0m     labels: IndexLabel \u001b[39m=\u001b[39m \u001b[39mNone\u001b[39;00m,\n\u001b[1;32m   (...)\u001b[0m\n\u001b[0;32m   5119\u001b[0m     errors: IgnoreRaise \u001b[39m=\u001b[39m \u001b[39m\"\u001b[39m\u001b[39mraise\u001b[39m\u001b[39m\"\u001b[39m,\n\u001b[0;32m   5120\u001b[0m ) \u001b[39m-\u001b[39m\u001b[39m>\u001b[39m DataFrame \u001b[39m|\u001b[39m \u001b[39mNone\u001b[39;00m:\n\u001b[0;32m   5121\u001b[0m \u001b[39m    \u001b[39m\u001b[39m\"\"\"\u001b[39;00m\n\u001b[0;32m   5122\u001b[0m \u001b[39m    Drop specified labels from rows or columns.\u001b[39;00m\n\u001b[0;32m   5123\u001b[0m \n\u001b[1;32m   (...)\u001b[0m\n\u001b[0;32m   5256\u001b[0m \u001b[39m            weight  1.0     0.8\u001b[39;00m\n\u001b[0;32m   5257\u001b[0m \u001b[39m    \"\"\"\u001b[39;00m\n\u001b[1;32m-> 5258\u001b[0m     \u001b[39mreturn\u001b[39;00m \u001b[39msuper\u001b[39;49m()\u001b[39m.\u001b[39;49mdrop(\n\u001b[0;32m   5259\u001b[0m         labels\u001b[39m=\u001b[39;49mlabels,\n\u001b[0;32m   5260\u001b[0m         axis\u001b[39m=\u001b[39;49maxis,\n\u001b[0;32m   5261\u001b[0m         index\u001b[39m=\u001b[39;49mindex,\n\u001b[0;32m   5262\u001b[0m         columns\u001b[39m=\u001b[39;49mcolumns,\n\u001b[0;32m   5263\u001b[0m         level\u001b[39m=\u001b[39;49mlevel,\n\u001b[0;32m   5264\u001b[0m         inplace\u001b[39m=\u001b[39;49minplace,\n\u001b[0;32m   5265\u001b[0m         errors\u001b[39m=\u001b[39;49merrors,\n\u001b[0;32m   5266\u001b[0m     )\n",
      "File \u001b[1;32mc:\\Users\\Edgar\\AppData\\Local\\Programs\\Python\\Python311\\Lib\\site-packages\\pandas\\core\\generic.py:4549\u001b[0m, in \u001b[0;36mNDFrame.drop\u001b[1;34m(self, labels, axis, index, columns, level, inplace, errors)\u001b[0m\n\u001b[0;32m   4547\u001b[0m \u001b[39mfor\u001b[39;00m axis, labels \u001b[39min\u001b[39;00m axes\u001b[39m.\u001b[39mitems():\n\u001b[0;32m   4548\u001b[0m     \u001b[39mif\u001b[39;00m labels \u001b[39mis\u001b[39;00m \u001b[39mnot\u001b[39;00m \u001b[39mNone\u001b[39;00m:\n\u001b[1;32m-> 4549\u001b[0m         obj \u001b[39m=\u001b[39m obj\u001b[39m.\u001b[39;49m_drop_axis(labels, axis, level\u001b[39m=\u001b[39;49mlevel, errors\u001b[39m=\u001b[39;49merrors)\n\u001b[0;32m   4551\u001b[0m \u001b[39mif\u001b[39;00m inplace:\n\u001b[0;32m   4552\u001b[0m     \u001b[39mself\u001b[39m\u001b[39m.\u001b[39m_update_inplace(obj)\n",
      "File \u001b[1;32mc:\\Users\\Edgar\\AppData\\Local\\Programs\\Python\\Python311\\Lib\\site-packages\\pandas\\core\\generic.py:4591\u001b[0m, in \u001b[0;36mNDFrame._drop_axis\u001b[1;34m(self, labels, axis, level, errors, only_slice)\u001b[0m\n\u001b[0;32m   4589\u001b[0m         new_axis \u001b[39m=\u001b[39m axis\u001b[39m.\u001b[39mdrop(labels, level\u001b[39m=\u001b[39mlevel, errors\u001b[39m=\u001b[39merrors)\n\u001b[0;32m   4590\u001b[0m     \u001b[39melse\u001b[39;00m:\n\u001b[1;32m-> 4591\u001b[0m         new_axis \u001b[39m=\u001b[39m axis\u001b[39m.\u001b[39;49mdrop(labels, errors\u001b[39m=\u001b[39;49merrors)\n\u001b[0;32m   4592\u001b[0m     indexer \u001b[39m=\u001b[39m axis\u001b[39m.\u001b[39mget_indexer(new_axis)\n\u001b[0;32m   4594\u001b[0m \u001b[39m# Case for non-unique axis\u001b[39;00m\n\u001b[0;32m   4595\u001b[0m \u001b[39melse\u001b[39;00m:\n",
      "File \u001b[1;32mc:\\Users\\Edgar\\AppData\\Local\\Programs\\Python\\Python311\\Lib\\site-packages\\pandas\\core\\indexes\\base.py:6699\u001b[0m, in \u001b[0;36mIndex.drop\u001b[1;34m(self, labels, errors)\u001b[0m\n\u001b[0;32m   6697\u001b[0m \u001b[39mif\u001b[39;00m mask\u001b[39m.\u001b[39many():\n\u001b[0;32m   6698\u001b[0m     \u001b[39mif\u001b[39;00m errors \u001b[39m!=\u001b[39m \u001b[39m\"\u001b[39m\u001b[39mignore\u001b[39m\u001b[39m\"\u001b[39m:\n\u001b[1;32m-> 6699\u001b[0m         \u001b[39mraise\u001b[39;00m \u001b[39mKeyError\u001b[39;00m(\u001b[39mf\u001b[39m\u001b[39m\"\u001b[39m\u001b[39m{\u001b[39;00m\u001b[39mlist\u001b[39m(labels[mask])\u001b[39m}\u001b[39;00m\u001b[39m not found in axis\u001b[39m\u001b[39m\"\u001b[39m)\n\u001b[0;32m   6700\u001b[0m     indexer \u001b[39m=\u001b[39m indexer[\u001b[39m~\u001b[39mmask]\n\u001b[0;32m   6701\u001b[0m \u001b[39mreturn\u001b[39;00m \u001b[39mself\u001b[39m\u001b[39m.\u001b[39mdelete(indexer)\n",
      "\u001b[1;31mKeyError\u001b[0m: \"['Subtipo_de_Abuso'] not found in axis\""
     ]
    }
   ],
   "source": [
    "'''Cambio de nombre a las columanas'''\n",
    "df_sex_agresion = df_sex_agresion.rename(columns={'A_o' : 'Year'})\n",
    "df_sex_agresion = df_sex_agresion.rename(columns={'Mes' : 'Month'})\n",
    "df_sex_agresion = df_sex_agresion.rename(columns={'Estado' : 'State'})\n",
    "df_sex_agresion = df_sex_agresion.rename(columns={'Tipo_de_abuso' : 'Type_of_abuse'})\n",
    "df_sex_agresion = df_sex_agresion.rename(columns={'Violaci�n simple' : 'Simple_Violation'})\n",
    "df_sex_agresion = df_sex_agresion.rename(columns={'Valor' : 'Count'})\n",
    "\n",
    "\n",
    "#Drop de subtipo_ya que es igual a tipo\n",
    "df_sex_agresion = df_sex_agresion.drop(columns= 'Subtipo_de_Abuso')\n"
   ]
  },
  {
   "cell_type": "code",
   "execution_count": 114,
   "metadata": {},
   "outputs": [
    {
     "name": "stdout",
     "output_type": "stream",
     "text": [
      "   Year   State         Type_of_abuse  Month  Count Month_num       Date\n",
      "0  2015  Puebla          Acoso sexual  Enero     11        01 2015-01-01\n",
      "1  2015  Puebla  Hostigamiento sexual  Enero      1        01 2015-01-01\n",
      "2  2015  Puebla      Violacion simple  Enero     43        01 2015-01-01\n"
     ]
    }
   ],
   "source": [
    "print(df_sex_agresion.head(3))"
   ]
  },
  {
   "cell_type": "code",
   "execution_count": 115,
   "metadata": {},
   "outputs": [
    {
     "data": {
      "text/plain": [
       "Year             0\n",
       "State            0\n",
       "Type_of_abuse    0\n",
       "Month            0\n",
       "Count            0\n",
       "Month_num        0\n",
       "Date             0\n",
       "dtype: int64"
      ]
     },
     "execution_count": 115,
     "metadata": {},
     "output_type": "execute_result"
    }
   ],
   "source": [
    "df_sex_agresion.isnull().sum()"
   ]
  },
  {
   "cell_type": "code",
   "execution_count": 116,
   "metadata": {},
   "outputs": [
    {
     "name": "stdout",
     "output_type": "stream",
     "text": [
      "<class 'pandas.core.frame.DataFrame'>\n",
      "RangeIndex: 12089 entries, 0 to 12088\n",
      "Data columns (total 7 columns):\n",
      " #   Column         Non-Null Count  Dtype         \n",
      "---  ------         --------------  -----         \n",
      " 0   Year           12089 non-null  int64         \n",
      " 1   State          12089 non-null  object        \n",
      " 2   Type_of_abuse  12089 non-null  object        \n",
      " 3   Month          12089 non-null  object        \n",
      " 4   Count          12089 non-null  int64         \n",
      " 5   Month_num      12089 non-null  object        \n",
      " 6   Date           12089 non-null  datetime64[ns]\n",
      "dtypes: datetime64[ns](1), int64(2), object(4)\n",
      "memory usage: 661.2+ KB\n"
     ]
    }
   ],
   "source": [
    "df_sex_agresion.info()"
   ]
  },
  {
   "cell_type": "code",
   "execution_count": 117,
   "metadata": {},
   "outputs": [
    {
     "data": {
      "text/html": [
       "<div>\n",
       "<style scoped>\n",
       "    .dataframe tbody tr th:only-of-type {\n",
       "        vertical-align: middle;\n",
       "    }\n",
       "\n",
       "    .dataframe tbody tr th {\n",
       "        vertical-align: top;\n",
       "    }\n",
       "\n",
       "    .dataframe thead th {\n",
       "        text-align: right;\n",
       "    }\n",
       "</style>\n",
       "<table border=\"1\" class=\"dataframe\">\n",
       "  <thead>\n",
       "    <tr style=\"text-align: right;\">\n",
       "      <th></th>\n",
       "      <th>Year</th>\n",
       "      <th>Count</th>\n",
       "      <th>Date</th>\n",
       "    </tr>\n",
       "  </thead>\n",
       "  <tbody>\n",
       "    <tr>\n",
       "      <th>count</th>\n",
       "      <td>12089.000000</td>\n",
       "      <td>12089.000000</td>\n",
       "      <td>12089</td>\n",
       "    </tr>\n",
       "    <tr>\n",
       "      <th>mean</th>\n",
       "      <td>2019.002316</td>\n",
       "      <td>24.025891</td>\n",
       "      <td>2019-04-02 09:38:25.798660096</td>\n",
       "    </tr>\n",
       "    <tr>\n",
       "      <th>min</th>\n",
       "      <td>2015.000000</td>\n",
       "      <td>0.000000</td>\n",
       "      <td>2015-01-01 00:00:00</td>\n",
       "    </tr>\n",
       "    <tr>\n",
       "      <th>25%</th>\n",
       "      <td>2017.000000</td>\n",
       "      <td>1.000000</td>\n",
       "      <td>2017-02-01 00:00:00</td>\n",
       "    </tr>\n",
       "    <tr>\n",
       "      <th>50%</th>\n",
       "      <td>2019.000000</td>\n",
       "      <td>8.000000</td>\n",
       "      <td>2019-04-01 00:00:00</td>\n",
       "    </tr>\n",
       "    <tr>\n",
       "      <th>75%</th>\n",
       "      <td>2021.000000</td>\n",
       "      <td>29.000000</td>\n",
       "      <td>2021-06-01 00:00:00</td>\n",
       "    </tr>\n",
       "    <tr>\n",
       "      <th>max</th>\n",
       "      <td>2023.000000</td>\n",
       "      <td>645.000000</td>\n",
       "      <td>2023-07-01 00:00:00</td>\n",
       "    </tr>\n",
       "    <tr>\n",
       "      <th>std</th>\n",
       "      <td>2.581048</td>\n",
       "      <td>44.784881</td>\n",
       "      <td>NaN</td>\n",
       "    </tr>\n",
       "  </tbody>\n",
       "</table>\n",
       "</div>"
      ],
      "text/plain": [
       "               Year         Count                           Date\n",
       "count  12089.000000  12089.000000                          12089\n",
       "mean    2019.002316     24.025891  2019-04-02 09:38:25.798660096\n",
       "min     2015.000000      0.000000            2015-01-01 00:00:00\n",
       "25%     2017.000000      1.000000            2017-02-01 00:00:00\n",
       "50%     2019.000000      8.000000            2019-04-01 00:00:00\n",
       "75%     2021.000000     29.000000            2021-06-01 00:00:00\n",
       "max     2023.000000    645.000000            2023-07-01 00:00:00\n",
       "std        2.581048     44.784881                            NaN"
      ]
     },
     "execution_count": 117,
     "metadata": {},
     "output_type": "execute_result"
    }
   ],
   "source": [
    "df_sex_agresion.describe()"
   ]
  },
  {
   "cell_type": "code",
   "execution_count": 101,
   "metadata": {},
   "outputs": [
    {
     "data": {
      "image/png": "[encoded data removed]",
      "text/plain": [
       "<Figure size 640x480 with 1 Axes>"
      ]
     },
     "metadata": {},
     "output_type": "display_data"
    }
   ],
   "source": [
    "# Ver la distribución de la variable 'Count'\n",
    "sns.histplot(df_sex_agresion['Count'], kde=True) #Que hace el kde\n",
    "plt.show()"
   ]
  },
  {
   "cell_type": "code",
   "execution_count": 104,
   "metadata": {},
   "outputs": [
    {
     "data": {
      "text/plain": [
       "array(['Acoso sexual', 'Hostigamiento sexual', 'Violaci�n simple',\n",
       "       'Violaci�n equiparada',\n",
       "       'Otros delitos que atentan contra la libertad y la seguridad sexual',\n",
       "       'Abuso sexual'], dtype=object)"
      ]
     },
     "execution_count": 104,
     "metadata": {},
     "output_type": "execute_result"
    }
   ],
   "source": [
    "df_sex_agresion['Type_of_abuse'].unique()"
   ]
  },
  {
   "cell_type": "code",
   "execution_count": 102,
   "metadata": {},
   "outputs": [
    {
     "data": {
      "image/png": "[encoded data removed]",
      "text/plain": [
       "<Figure size 640x480 with 1 Axes>"
      ]
     },
     "metadata": {},
     "output_type": "display_data"
    }
   ],
   "source": [
    "# Ver la sumatoria de 'Count' por tipo de abuso\n",
    "# df.groupby('Type_of_abuse')['Count'].sum().plot(kind='bar')\n",
    "# plt.show()\n",
    "\n",
    "# # Ver la sumatoria de 'Count' por tipo de abuso y ordenarlo\n",
    "# df_sex_agresion.groupby('Type_of_abuse')['Count'].sum().sort_values().plot(kind='bar')\n",
    "# plt.show()\n",
    "\n",
    "# Para orden descendente\n",
    "# df_sex_agresion.groupby('Type_of_abuse')['Count'].sum().sort_values(ascending=False).plot(kind='bar')\n",
    "# plt.show()\n",
    "\n",
    "# Asumiendo df es tu DataFrame\n",
    "# Crear un nuevo DataFrame con las sumas y ordenarlo\n",
    "sum_df = df_sex_agresion.groupby('Type_of_abuse')['Count'].sum().reset_index()\n",
    "sum_df = sum_df.sort_values(by='Count', ascending=False)  # Cambia a True para orden ascendente\n",
    "\n",
    "# Ahora usar Seaborn para plotear\n",
    "sns.barplot(data=sum_df, x='Type_of_abuse', y='Count')\n",
    "plt.xticks(rotation=45)  # Rota las etiquetas del eje x para mejor visualización si es necesario\n",
    "plt.show()\n"
   ]
  },
  {
   "cell_type": "code",
   "execution_count": 105,
   "metadata": {},
   "outputs": [
    {
     "data": {
      "image/png": "[encoded data removed]",
      "text/plain": [
       "<Figure size 640x480 with 1 Axes>"
      ]
     },
     "metadata": {},
     "output_type": "display_data"
    }
   ],
   "source": [
    "sum_df = df_sex_agresion.groupby('State')['Count'].sum().reset_index()\n",
    "sum_df = sum_df.sort_values(by='Count', ascending=False)  # Cambia a True para orden ascendente\n",
    "\n",
    "# Ahora usar Seaborn para plotear\n",
    "sns.barplot(data=sum_df, x='State', y='Count')\n",
    "plt.xticks(rotation=90)  # Rota las etiquetas del eje x para mejor visualización si es necesario\n",
    "plt.show()"
   ]
  },
  {
   "cell_type": "markdown",
   "metadata": {},
   "source": [
    "Conversion de Date a datetimeline para analisis temporal"
   ]
  },
  {
   "cell_type": "code",
   "execution_count": 118,
   "metadata": {},
   "outputs": [
    {
     "data": {
      "image/png": "[encoded data removed]",
      "text/plain": [
       "<Figure size 640x480 with 1 Axes>"
      ]
     },
     "metadata": {},
     "output_type": "display_data"
    }
   ],
   "source": [
    "# Mapeo de nombres de meses a números\n",
    "month_mapping = {\n",
    "    'Enero': '01',\n",
    "    'Febrero': '02',\n",
    "    'Marzo': '03',\n",
    "    'Abril': '04',\n",
    "    'Mayo': '05',\n",
    "    'Junio': '06',\n",
    "    'Julio': '07',\n",
    "    'Agosto': '08',\n",
    "    'Septiembre': '09',\n",
    "    'Octubre': '10',\n",
    "    'Noviembre': '11',\n",
    "    'Diciembre': '12'\n",
    "}\n",
    "\n",
    "# Aplicar el mapeo\n",
    "df_sex_agresion['Month_num'] = df_sex_agresion['Month'].map(month_mapping)\n",
    "\n",
    "# Ahora, intenta convertir las columnas 'Year' y 'Month_num' a una columna de fecha\n",
    "df_sex_agresion['Date'] = pd.to_datetime(df_sex_agresion['Year'].astype(str) + '-' + df_sex_agresion['Month_num'])\n",
    "\n",
    "# Ver la tendencia de 'Count' a lo largo del tiempo\n",
    "df_sex_agresion.groupby('Date')['Count'].sum().plot()\n",
    "plt.show()\n"
   ]
  },
  {
   "cell_type": "code",
   "execution_count": 119,
   "metadata": {},
   "outputs": [
    {
     "data": {
      "text/html": [
       "<div>\n",
       "<style scoped>\n",
       "    .dataframe tbody tr th:only-of-type {\n",
       "        vertical-align: middle;\n",
       "    }\n",
       "\n",
       "    .dataframe tbody tr th {\n",
       "        vertical-align: top;\n",
       "    }\n",
       "\n",
       "    .dataframe thead th {\n",
       "        text-align: right;\n",
       "    }\n",
       "</style>\n",
       "<table border=\"1\" class=\"dataframe\">\n",
       "  <thead>\n",
       "    <tr style=\"text-align: right;\">\n",
       "      <th></th>\n",
       "      <th>Year</th>\n",
       "      <th>State</th>\n",
       "      <th>Type_of_abuse</th>\n",
       "      <th>Month</th>\n",
       "      <th>Count</th>\n",
       "      <th>Month_num</th>\n",
       "      <th>Date</th>\n",
       "    </tr>\n",
       "  </thead>\n",
       "  <tbody>\n",
       "    <tr>\n",
       "      <th>0</th>\n",
       "      <td>2015</td>\n",
       "      <td>Puebla</td>\n",
       "      <td>Acoso sexual</td>\n",
       "      <td>Enero</td>\n",
       "      <td>11</td>\n",
       "      <td>01</td>\n",
       "      <td>2015-01-01</td>\n",
       "    </tr>\n",
       "    <tr>\n",
       "      <th>1</th>\n",
       "      <td>2015</td>\n",
       "      <td>Puebla</td>\n",
       "      <td>Hostigamiento sexual</td>\n",
       "      <td>Enero</td>\n",
       "      <td>1</td>\n",
       "      <td>01</td>\n",
       "      <td>2015-01-01</td>\n",
       "    </tr>\n",
       "    <tr>\n",
       "      <th>2</th>\n",
       "      <td>2015</td>\n",
       "      <td>Puebla</td>\n",
       "      <td>Violacion simple</td>\n",
       "      <td>Enero</td>\n",
       "      <td>43</td>\n",
       "      <td>01</td>\n",
       "      <td>2015-01-01</td>\n",
       "    </tr>\n",
       "  </tbody>\n",
       "</table>\n",
       "</div>"
      ],
      "text/plain": [
       "   Year   State         Type_of_abuse  Month  Count Month_num       Date\n",
       "0  2015  Puebla          Acoso sexual  Enero     11        01 2015-01-01\n",
       "1  2015  Puebla  Hostigamiento sexual  Enero      1        01 2015-01-01\n",
       "2  2015  Puebla      Violacion simple  Enero     43        01 2015-01-01"
      ]
     },
     "execution_count": 119,
     "metadata": {},
     "output_type": "execute_result"
    }
   ],
   "source": [
    "df_sex_agresion.head(3)"
   ]
  },
  {
   "cell_type": "code",
   "execution_count": 120,
   "metadata": {},
   "outputs": [
    {
     "name": "stdout",
     "output_type": "stream",
     "text": [
      "0\n"
     ]
    }
   ],
   "source": [
    "print(df_sex_agresion.duplicated().sum())"
   ]
  },
  {
   "cell_type": "code",
   "execution_count": 125,
   "metadata": {},
   "outputs": [
    {
     "data": {
      "text/plain": [
       "array(['Enero', 'Febrero', 'Marzo', 'Abril', 'Mayo', 'Junio', 'Julio'],\n",
       "      dtype=object)"
      ]
     },
     "execution_count": 125,
     "metadata": {},
     "output_type": "execute_result"
    }
   ],
   "source": [
    "''' revision final de unique values para ver que todo esta en orden'''\n",
    "#df_sex_agresion.Year.unique() # Bien\n",
    "#df_sex_agresion['State'].nunique() #Bien\n",
    "#df_sex_agresion['Type_of_abuse'].unique() # Bien\n",
    "#df_sex_agresion['Month'].unique() # Bien # Dado que solo consideramos los meses similares a esta a;o y debimos considerar mas para la o bueno vamos a crear otro para la proyeccion de este a;o que te parece\n",
    "#df_sex_agresion['Month_num'].unique() # Bien \n",
    "#df_sex_agresion['Date'].unique()"
   ]
  },
  {
   "cell_type": "markdown",
   "metadata": {},
   "source": [
    "# Union de los dos data Frames"
   ]
  },
  {
   "cell_type": "code",
   "execution_count": 201,
   "metadata": {},
   "outputs": [
    {
     "name": "stdout",
     "output_type": "stream",
     "text": [
      "State    0\n",
      "2015     0\n",
      "2016     0\n",
      "2017     0\n",
      "2018     0\n",
      "2019     0\n",
      "2020     0\n",
      "2021     0\n",
      "2022     0\n",
      "2023     0\n",
      "dtype: int64\n",
      "Year             0\n",
      "State            0\n",
      "Type_of_abuse    0\n",
      "Month            0\n",
      "Count            0\n",
      "Month_num        0\n",
      "Date             0\n",
      "dtype: int64\n"
     ]
    }
   ],
   "source": [
    "# revision de null values por si las dudas en ambos dataframes:\n",
    "print(combined_df.isnull().sum()) # todo bien\n",
    "print(df_sex_agresion.isnull().sum()) # todo bien "
   ]
  },
  {
   "cell_type": "code",
   "execution_count": 202,
   "metadata": {},
   "outputs": [
    {
     "name": "stdout",
     "output_type": "stream",
     "text": [
      "                 State     2015     2016     2017     2018     2019     2020  \\\n",
      "0       Aguascalientes  1326528  1348697  1371285  1394350  1417886  1441884   \n",
      "1      Baja California  3502091  3554774  3608038  3661896  3716360  3771441   \n",
      "2  Baja California Sur   762351   776706   791465   806637   822233   838264   \n",
      "\n",
      "      2021     2022     2023  \n",
      "0  1466342  1491262  1516648  \n",
      "1  3827153  3883494  3940467  \n",
      "2   854738   871659   888938  \n",
      "   Year   State         Type_of_abuse  Month  Count Month_num       Date\n",
      "0  2015  Puebla          Acoso sexual  Enero     11        01 2015-01-01\n",
      "1  2015  Puebla  Hostigamiento sexual  Enero      1        01 2015-01-01\n",
      "2  2015  Puebla      Violacion simple  Enero     43        01 2015-01-01\n"
     ]
    }
   ],
   "source": [
    "print(combined_df.head(3))\n",
    "print(df_sex_agresion.head(3))"
   ]
  },
  {
   "cell_type": "code",
   "execution_count": 209,
   "metadata": {},
   "outputs": [
    {
     "name": "stdout",
     "output_type": "stream",
     "text": [
      "Los valores no coinciden\n",
      "Valores en df1 pero no en df2: set()\n",
      "Valores en df2 pero no en df1: {'Jalisco'}\n"
     ]
    }
   ],
   "source": [
    "# validacion de que la columna state contenga los mismos valores\n",
    "set_1 = set(combined_df['State'])\n",
    "set_2 = set(df_sex_agresion['State'])\n",
    "\n",
    "if set_1 == set_2 :\n",
    "    print('Los valores coinciden')\n",
    "else:\n",
    "    print('Los valores no coinciden')\n",
    "\n",
    "# Si hay una discrepancia, puedes usar la diferencia de conjuntos para ver qué valores son diferentes\n",
    "if set_1 != set_2:\n",
    "    print(\"Valores en df1 pero no en df2:\", set_1 - set_2)\n",
    "    print(\"Valores en df2 pero no en df1:\", set_2 - set_1)"
   ]
  },
  {
   "cell_type": "code",
   "execution_count": 208,
   "metadata": {},
   "outputs": [],
   "source": [
    "# Diccionario con los mapeos correctos\n",
    "mapeo_nombres = {\n",
    "    'Ciudad de México': 'Ciudad de Mexico',\n",
    "    'Veracruz': 'Veracruz de Ignacio de la Llave',\n",
    "    'Yucatán': 'Yucatan',\n",
    "    'Estado de México': 'Mexico',\n",
    "    'Querétaro': 'Queretaro',\n",
    "    'México': 'Mexico',\n",
    "    'Nuevo León': 'Nuevo Leon',\n",
    "    'San Luis Potosí': 'San Luis Potosi',\n",
    "    'Michoacán de Ocampo': 'Michoacan de Ocampo'\n",
    "}\n",
    "\n",
    "# Aplicando el mapeo al DataFrame que necesita corrección\n",
    "combined_df['State'] = combined_df['State'].replace(mapeo_nombres)\n",
    "\n"
   ]
  },
  {
   "cell_type": "code",
   "execution_count": 210,
   "metadata": {},
   "outputs": [],
   "source": [
    "\n",
    "# Unimos los dos DataFrames basados en la columna 'State'.\n",
    "# 'on' especifica la columna sobre la que se realizará la unión.\n",
    "# 'how' especifica el tipo de unión. En este caso, 'left' significa que queremos mantener todas las filas del df_sex_agresion y agregar información del df_poblacion donde coincidan los estados.\n",
    "merged_df = df_sex_agresion.merge(combined_df, on='State', how='left')\n",
    "\n",
    "# Creamos una nueva columna 'Population'.\n",
    "# 'apply' es una función que aplica una función a lo largo del eje de un DataFrame (en este caso, a lo largo de cada fila porque axis=1).\n",
    "# 'lambda row: row[str(row['Year'])]' es una función anónima que toma una fila del DataFrame y devuelve el valor de la columna que corresponde al año de esa fila.\n",
    "merged_df['Population'] = merged_df.apply(lambda row: row[str(row['Year'])], axis=1)\n",
    "\n",
    "\n",
    "merged_df.to_csv('Complet_Set_Abuse_&_pob_by_year.csv', index= False)"
   ]
  },
  {
   "cell_type": "code",
   "execution_count": 212,
   "metadata": {},
   "outputs": [
    {
     "data": {
      "text/plain": [
       "32"
      ]
     },
     "execution_count": 212,
     "metadata": {},
     "output_type": "execute_result"
    }
   ],
   "source": [
    "merged_df['State'].nunique()"
   ]
  },
  {
   "cell_type": "code",
   "execution_count": null,
   "metadata": {},
   "outputs": [],
   "source": [
    "''' Con que finalidad hacemos esto'''"
   ]
  }
 ],
 "metadata": {
  "kernelspec": {
   "display_name": "Python 3",
   "language": "python",
   "name": "python3"
  },
  "language_info": {
   "codemirror_mode": {
    "name": "ipython",
    "version": 3
   },
   "file_extension": ".py",
   "mimetype": "text/x-python",
   "name": "python",
   "nbconvert_exporter": "python",
   "pygments_lexer": "ipython3",
   "version": "3.11.2"
  },
  "orig_nbformat": 4
 },
 "nbformat": 4,
 "nbformat_minor": 2
}
