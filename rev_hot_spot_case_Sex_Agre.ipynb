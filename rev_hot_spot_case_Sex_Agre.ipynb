{
 "cells": [
  {
   "cell_type": "code",
   "execution_count": 3,
   "metadata": {},
   "outputs": [
    {
     "data": {
      "text/plain": [
       "' \\nPor que se generon algunos NULL values\\n'"
      ]
     },
     "execution_count": 3,
     "metadata": {},
     "output_type": "execute_result"
    }
   ],
   "source": [
    "''' \n",
    "Por que se generon algunos NULL values\n",
    "'''"
   ]
  },
  {
   "cell_type": "code",
   "execution_count": 4,
   "metadata": {},
   "outputs": [],
   "source": [
    "import numpy as np\n",
    "import pandas as pd\n",
    "import matplotlib.pyplot as plt\n",
    "import seaborn as sns\n",
    "import tabulate"
   ]
  },
  {
   "cell_type": "code",
   "execution_count": 5,
   "metadata": {},
   "outputs": [],
   "source": [
    "df_poblacion_mex = pd.read_csv('Poblacion_Mexicana_Mod.csv')\n",
    "\n"
   ]
  },
  {
   "cell_type": "markdown",
   "metadata": {},
   "source": [
    "Dado que se presento Estado con 30, valores unicos pero su cuenta es de 32, asumo que hay valores duplicados"
   ]
  },
  {
   "cell_type": "code",
   "execution_count": 6,
   "metadata": {},
   "outputs": [
    {
     "data": {
      "text/plain": [
       "30"
      ]
     },
     "execution_count": 6,
     "metadata": {},
     "output_type": "execute_result"
    }
   ],
   "source": [
    "df_poblacion_mex.Estado.nunique()"
   ]
  },
  {
   "cell_type": "code",
   "execution_count": 7,
   "metadata": {},
   "outputs": [
    {
     "data": {
      "text/plain": [
       "32"
      ]
     },
     "execution_count": 7,
     "metadata": {},
     "output_type": "execute_result"
    }
   ],
   "source": [
    "\n",
    "df_poblacion_mex.Estado.count()"
   ]
  },
  {
   "cell_type": "code",
   "execution_count": 8,
   "metadata": {},
   "outputs": [
    {
     "name": "stdout",
     "output_type": "stream",
     "text": [
      "Valores duplicados en la lista de valores únicos:\n",
      "['Quintana Roo', 'Nayarit']\n"
     ]
    }
   ],
   "source": [
    "'''Revision y eliminacion de valores duplicados, en el area de los estados'''\n",
    "\n",
    "# 1. Obten los valores únicos de la columna y conviértelos en una lista\n",
    "valores_unicos = df_poblacion_mex['Estado'].unique()\n",
    "\n",
    "# 2. Verifica si hay valores duplicados en la lista de valores únicos\n",
    "duplicados = [item for item in valores_unicos if list(df_poblacion_mex['Estado']).count(item) > 1]\n",
    "\n",
    "# 3. Ahora, puedes imprimir los valores duplicados si los hay.\n",
    "if not duplicados:\n",
    "    print(\"No hay valores duplicados en la lista de valores únicos.\")\n",
    "else:\n",
    "    print(\"Valores duplicados en la lista de valores únicos:\")\n",
    "    print(duplicados)"
   ]
  },
  {
   "cell_type": "code",
   "execution_count": 9,
   "metadata": {},
   "outputs": [
    {
     "name": "stdout",
     "output_type": "stream",
     "text": [
      "30\n"
     ]
    }
   ],
   "source": [
    "\n",
    "# 1. Utiliza el método `duplicated()` para encontrar las filas duplicadas.\n",
    "filas_duplicadas = df_poblacion_mex[df_poblacion_mex['Estado'].duplicated()]\n",
    "\n",
    "# 2. Luego, puedes usar el método `drop()` para eliminar esas filas del DataFrame original.\n",
    "df_poblacion_mex_wo_duplicated = df_poblacion_mex.drop(filas_duplicadas.index)\n",
    "\n",
    "# 3. Ahora, df_sin_duplicados contendrá tu DataFrame original sin las filas que contenían valores duplicados.\n",
    "\n",
    "# Puedes imprimir df_sin_duplicados para verificar que se eliminaron las filas duplicadas.\n",
    "print(df_poblacion_mex_wo_duplicated.Estado.nunique())\n"
   ]
  },
  {
   "cell_type": "code",
   "execution_count": 10,
   "metadata": {},
   "outputs": [
    {
     "data": {
      "text/plain": [
       "array(['Aguascalientes', 'Baja California', 'Baja California Sur',\n",
       "       'Campeche', 'Coahuila de Zaragoza', 'Colima', 'Chiapas',\n",
       "       'Chihuahua', 'Estado de México', 'Morelos', 'Puebla', 'Tlaxcala',\n",
       "       'Querétaro', 'Guanajuato', 'Hidalgo', 'Veracruz', 'Tabasco',\n",
       "       'Quintana Roo', 'Sonora', 'Sinaloa', 'Nayarit', 'Durango',\n",
       "       'Zacatecas', 'Tamaulipas', 'San Luis Potosí', 'Guerrero', 'Oaxaca',\n",
       "       'Ciudad de México', 'Yucatán', 'Michoacán de Ocampo'], dtype=object)"
      ]
     },
     "execution_count": 10,
     "metadata": {},
     "output_type": "execute_result"
    }
   ],
   "source": [
    "df_poblacion_mex_wo_duplicated.Estado.unique()"
   ]
  },
  {
   "cell_type": "code",
   "execution_count": 11,
   "metadata": {},
   "outputs": [
    {
     "name": "stdout",
     "output_type": "stream",
     "text": [
      "       Estado         2015         2016         2017         2018  \\\n",
      "0      México  122,306,146  123,605,424  124,923,181  126,260,314   \n",
      "1  Nuevo León    5,119,504    5,232,816    5,349,155    5,468,579   \n",
      "\n",
      "          2019         2020         2021         2022         2023  \n",
      "0  127,618,337  128,932,489  130,268,777  131,628,541  132,999,898  \n",
      "1    5,591,148    5,784,442    5,971,213    6,161,499    6,355,642  \n"
     ]
    }
   ],
   "source": [
    "'''\n",
    "melt() se utiliza para \"derretir\" o \"apilar\" columnas. En este caso, usamos melt() \n",
    "para convertir las columnas 'México' y 'Nuevo León' en una sola columna llamada 'Estado', \n",
    "manteniendo la información de 'Año'. Esto crea un DataFrame largo con \n",
    "tres columnas: 'Año', 'Estado' y 'Valor'. Es más fácil trabajar con esta estructura para luego pivotear los datos.\n",
    "\n",
    "\n",
    "Pivotear: Una vez que tenemos el DataFrame derretido, utilizamos el método pivot() para girar las filas y las columnas. \n",
    "Esto nos permite tener los años como columnas y los valores de 'México' y 'Nuevo León' en las filas. El resultado es un \n",
    "DataFrame donde los años son columnas y 'México' y 'Nuevo León' se combinan en la columna 'Estado'.\n",
    "\n",
    "\n",
    "'''\n",
    "\n",
    "# Supongamos que tienes el DataFrame original con las columnas 'Año', 'México' y 'Nuevo León'\n",
    "data = {\n",
    "    'Año': [2015, 2016, 2017, 2018, 2019, 2020, 2021, 2022, 2023],\n",
    "    'México': ['122,306,146', '123,605,424', '124,923,181', '126,260,314', '127,618,337', '128,932,489', '130,268,777', '131,628,541', '132,999,898'],\n",
    "    'Nuevo León': ['5,119,504', '5,232,816', '5,349,155', '5,468,579', '5,591,148', '5,784,442', '5,971,213', '6,161,499', '6,355,642']\n",
    "}\n",
    "\n",
    "df_original = pd.DataFrame(data)\n",
    "#print(df_original)\n",
    "\n",
    "# 1. Derrite (melt) las columnas 'México' y 'Nuevo León' en una columna 'Estado'\n",
    "df_melted = pd.melt(df_original, id_vars=['Año'], var_name='Estado', value_name='Valor')\n",
    "#print(df_melted)\n",
    "\n",
    "# 2. Pivotea el DataFrame para tener los años como columnas\n",
    "df_pivoted = df_melted.pivot(index='Estado', columns='Año', values='Valor').reset_index()\n",
    "\n",
    "# 3. Cambia el nombre de las columnas para que sea más limpio\n",
    "df_pivoted.columns.name = None\n",
    "\n",
    "# 4. Verifica el DataFrame final\n",
    "print(df_pivoted)\n"
   ]
  },
  {
   "cell_type": "code",
   "execution_count": 12,
   "metadata": {},
   "outputs": [
    {
     "data": {
      "text/plain": [
       "' Solo fue necesario ejecutarlo una sola vez'"
      ]
     },
     "execution_count": 12,
     "metadata": {},
     "output_type": "execute_result"
    }
   ],
   "source": [
    "'''Habia una columna estra;a llamada Unamed, no hacia nada asi que solo era practicamente una copia del idx'''\n",
    "# print(df_poblacion_mex_wo_duplicated.head(3))\n",
    "# print(df_pivoted.head(3))\n",
    "\n",
    "to_delete = list(df_poblacion_mex_wo_duplicated.columns)\n",
    "# #print(to_delete[0])\n",
    "\n",
    "df_poblacion_mex_wo_duplicated = df_poblacion_mex_wo_duplicated.drop(to_delete[0], axis = 1)\n",
    "\n",
    "# print(df_poblacion_mex_wo_duplicated.head(3))\n",
    "\n",
    "''' Solo fue necesario ejecutarlo una sola vez'''"
   ]
  },
  {
   "cell_type": "code",
   "execution_count": 13,
   "metadata": {},
   "outputs": [
    {
     "name": "stdout",
     "output_type": "stream",
     "text": [
      "       Estado         2015         2016         2017         2018  \\\n",
      "0      México  122,306,146  123,605,424  124,923,181  126,260,314   \n",
      "1  Nuevo León    5,119,504    5,232,816    5,349,155    5,468,579   \n",
      "\n",
      "          2019         2020         2021         2022         2023  \n",
      "0  127,618,337  128,932,489  130,268,777  131,628,541  132,999,898  \n",
      "1    5,591,148    5,784,442    5,971,213    6,161,499    6,355,642  \n"
     ]
    }
   ],
   "source": [
    "print(df_pivoted.head(3))"
   ]
  },
  {
   "cell_type": "code",
   "execution_count": 14,
   "metadata": {},
   "outputs": [
    {
     "name": "stdout",
     "output_type": "stream",
     "text": [
      "32\n"
     ]
    }
   ],
   "source": [
    "'''Union de los dos df '''\n",
    "df_new_pob_mex_with_states = pd.concat([df_poblacion_mex_wo_duplicated, df_pivoted], ignore_index= True)\n",
    "\n",
    "print(df_new_pob_mex_with_states.Estado.nunique())"
   ]
  },
  {
   "cell_type": "markdown",
   "metadata": {},
   "source": [
    "salvado de el nuevo df_completo"
   ]
  },
  {
   "cell_type": "code",
   "execution_count": 33,
   "metadata": {},
   "outputs": [
    {
     "data": {
      "text/plain": [
       "''"
      ]
     },
     "execution_count": 33,
     "metadata": {},
     "output_type": "execute_result"
    }
   ],
   "source": [
    "#index=False en el método to_csv() se utiliza para evitar que se guarde el índice del DataFrame en el archivo CSV. \n",
    "df_new_pob_mex_with_states.to_csv('Poblacion_Mex_Corregida.csv', index= False)\n",
    "\n",
    "''''''"
   ]
  },
  {
   "cell_type": "markdown",
   "metadata": {},
   "source": [
    "# Lectura del segundo data frame"
   ]
  },
  {
   "cell_type": "code",
   "execution_count": 62,
   "metadata": {},
   "outputs": [],
   "source": [
    "df_sex_agresion =  pd.read_csv('sexual_agre_cleaned.csv')\n"
   ]
  },
  {
   "cell_type": "code",
   "execution_count": 63,
   "metadata": {},
   "outputs": [
    {
     "data": {
      "text/plain": [
       "(12089, 6)"
      ]
     },
     "execution_count": 63,
     "metadata": {},
     "output_type": "execute_result"
    }
   ],
   "source": [
    "df_sex_agresion.shape\n",
    "#  12089 - 6"
   ]
  },
  {
   "cell_type": "code",
   "execution_count": 64,
   "metadata": {},
   "outputs": [
    {
     "name": "stdout",
     "output_type": "stream",
     "text": [
      "    A_o  Estado         Tipo_de_abuso      Subtipo_de_Abuso    Mes  Valor\n",
      "0  2015  Puebla          Acoso sexual          Acoso sexual  Enero     11\n",
      "1  2015  Puebla  Hostigamiento sexual  Hostigamiento sexual  Enero      1\n",
      "2  2015  Puebla      Violaci�n simple      Violaci�n simple  Enero     43\n"
     ]
    }
   ],
   "source": [
    "print(df_sex_agresion.head(3))"
   ]
  },
  {
   "cell_type": "code",
   "execution_count": 69,
   "metadata": {},
   "outputs": [],
   "source": [
    "'''Cambio de nombre a las columanas'''\n",
    "# df_sex_agresion = df_sex_agresion.rename(columns={'A_o' : 'Year'})\n",
    "# df_sex_agresion = df_sex_agresion.rename(columns={'Mes' : 'Month'})\n",
    "# df_sex_agresion = df_sex_agresion.rename(columns={'Estado' : 'State'})\n",
    "# df_sex_agresion = df_sex_agresion.rename(columns={'Tipo_de_abuso' : 'Type_of_abuse'})\n",
    "# df_sex_agresion = df_sex_agresion.rename(columns={'Violaci�n simple' : 'Simple_Violation'})\n",
    "#df_sex_agresion = df_sex_agresion.rename(columns={'Valor' : 'Count'})\n",
    "\n",
    "\n",
    "#Drop de subtipo_ya que es igual a tipo\n",
    "# df_sex_agresion = df_sex_agresion.drop(columns= 'Subtipo_de_Abuso')\n"
   ]
  },
  {
   "cell_type": "code",
   "execution_count": 70,
   "metadata": {},
   "outputs": [
    {
     "name": "stdout",
     "output_type": "stream",
     "text": [
      "   Year   State         Type_of_abuse  Month  Count\n",
      "0  2015  Puebla          Acoso sexual  Enero     11\n",
      "1  2015  Puebla  Hostigamiento sexual  Enero      1\n",
      "2  2015  Puebla      Violaci�n simple  Enero     43\n"
     ]
    }
   ],
   "source": [
    "print(df_sex_agresion.head(3))"
   ]
  },
  {
   "cell_type": "code",
   "execution_count": 71,
   "metadata": {},
   "outputs": [
    {
     "data": {
      "text/plain": [
       "Year             0\n",
       "State            0\n",
       "Type_of_abuse    0\n",
       "Month            0\n",
       "Count            0\n",
       "dtype: int64"
      ]
     },
     "execution_count": 71,
     "metadata": {},
     "output_type": "execute_result"
    }
   ],
   "source": [
    "df_sex_agresion.isnull().sum()"
   ]
  },
  {
   "cell_type": "code",
   "execution_count": 72,
   "metadata": {},
   "outputs": [
    {
     "name": "stdout",
     "output_type": "stream",
     "text": [
      "<class 'pandas.core.frame.DataFrame'>\n",
      "RangeIndex: 12089 entries, 0 to 12088\n",
      "Data columns (total 5 columns):\n",
      " #   Column         Non-Null Count  Dtype \n",
      "---  ------         --------------  ----- \n",
      " 0   Year           12089 non-null  int64 \n",
      " 1   State          12089 non-null  object\n",
      " 2   Type_of_abuse  12089 non-null  object\n",
      " 3   Month          12089 non-null  object\n",
      " 4   Count          12089 non-null  int64 \n",
      "dtypes: int64(2), object(3)\n",
      "memory usage: 472.4+ KB\n"
     ]
    }
   ],
   "source": [
    "df_sex_agresion.info()"
   ]
  },
  {
   "cell_type": "code",
   "execution_count": 75,
   "metadata": {},
   "outputs": [
    {
     "data": {
      "text/html": [
       "<div>\n",
       "<style scoped>\n",
       "    .dataframe tbody tr th:only-of-type {\n",
       "        vertical-align: middle;\n",
       "    }\n",
       "\n",
       "    .dataframe tbody tr th {\n",
       "        vertical-align: top;\n",
       "    }\n",
       "\n",
       "    .dataframe thead th {\n",
       "        text-align: right;\n",
       "    }\n",
       "</style>\n",
       "<table border=\"1\" class=\"dataframe\">\n",
       "  <thead>\n",
       "    <tr style=\"text-align: right;\">\n",
       "      <th></th>\n",
       "      <th>Year</th>\n",
       "      <th>Count</th>\n",
       "    </tr>\n",
       "  </thead>\n",
       "  <tbody>\n",
       "    <tr>\n",
       "      <th>count</th>\n",
       "      <td>12089.000000</td>\n",
       "      <td>12089.000000</td>\n",
       "    </tr>\n",
       "    <tr>\n",
       "      <th>mean</th>\n",
       "      <td>2019.002316</td>\n",
       "      <td>24.025891</td>\n",
       "    </tr>\n",
       "    <tr>\n",
       "      <th>std</th>\n",
       "      <td>2.581048</td>\n",
       "      <td>44.784881</td>\n",
       "    </tr>\n",
       "    <tr>\n",
       "      <th>min</th>\n",
       "      <td>2015.000000</td>\n",
       "      <td>0.000000</td>\n",
       "    </tr>\n",
       "    <tr>\n",
       "      <th>25%</th>\n",
       "      <td>2017.000000</td>\n",
       "      <td>1.000000</td>\n",
       "    </tr>\n",
       "    <tr>\n",
       "      <th>50%</th>\n",
       "      <td>2019.000000</td>\n",
       "      <td>8.000000</td>\n",
       "    </tr>\n",
       "    <tr>\n",
       "      <th>75%</th>\n",
       "      <td>2021.000000</td>\n",
       "      <td>29.000000</td>\n",
       "    </tr>\n",
       "    <tr>\n",
       "      <th>max</th>\n",
       "      <td>2023.000000</td>\n",
       "      <td>645.000000</td>\n",
       "    </tr>\n",
       "  </tbody>\n",
       "</table>\n",
       "</div>"
      ],
      "text/plain": [
       "               Year         Count\n",
       "count  12089.000000  12089.000000\n",
       "mean    2019.002316     24.025891\n",
       "std        2.581048     44.784881\n",
       "min     2015.000000      0.000000\n",
       "25%     2017.000000      1.000000\n",
       "50%     2019.000000      8.000000\n",
       "75%     2021.000000     29.000000\n",
       "max     2023.000000    645.000000"
      ]
     },
     "execution_count": 75,
     "metadata": {},
     "output_type": "execute_result"
    }
   ],
   "source": [
    "df_sex_agresion.describe()"
   ]
  },
  {
   "cell_type": "markdown",
   "metadata": {},
   "source": [
    "NUEVO EDA"
   ]
  },
  {
   "cell_type": "code",
   "execution_count": 79,
   "metadata": {},
   "outputs": [
    {
     "data": {
      "image/png": "[encoded data removed]",
      "text/plain": [
       "<Figure size 640x480 with 1 Axes>"
      ]
     },
     "metadata": {},
     "output_type": "display_data"
    }
   ],
   "source": [
    "# Ver la distribución de la variable 'Count'\n",
    "sns.histplot(df_sex_agresion['Count'], kde=True) #Que hace el kde\n",
    "plt.show()"
   ]
  },
  {
   "cell_type": "code",
   "execution_count": 92,
   "metadata": {},
   "outputs": [
    {
     "data": {
      "image/png": "[encoded data removed]",
      "text/plain": [
       "<Figure size 640x480 with 1 Axes>"
      ]
     },
     "metadata": {},
     "output_type": "display_data"
    }
   ],
   "source": [
    "# Ver la sumatoria de 'Count' por tipo de abuso\n",
    "# df.groupby('Type_of_abuse')['Count'].sum().plot(kind='bar')\n",
    "# plt.show()\n",
    "\n",
    "# # Ver la sumatoria de 'Count' por tipo de abuso y ordenarlo\n",
    "# df_sex_agresion.groupby('Type_of_abuse')['Count'].sum().sort_values().plot(kind='bar')\n",
    "# plt.show()\n",
    "\n",
    "# Para orden descendente\n",
    "# df_sex_agresion.groupby('Type_of_abuse')['Count'].sum().sort_values(ascending=False).plot(kind='bar')\n",
    "# plt.show()\n",
    "\n",
    "# Asumiendo df es tu DataFrame\n",
    "# Crear un nuevo DataFrame con las sumas y ordenarlo\n",
    "sum_df = df_sex_agresion.groupby('Type_of_abuse')['Count'].sum().reset_index()\n",
    "sum_df = sum_df.sort_values(by='Count', ascending=False)  # Cambia a True para orden ascendente\n",
    "\n",
    "# Ahora usar Seaborn para plotear\n",
    "sns.barplot(data=sum_df, x='Type_of_abuse', y='Count')\n",
    "plt.xticks(rotation=45)  # Rota las etiquetas del eje x para mejor visualización si es necesario\n",
    "plt.show()\n"
   ]
  },
  {
   "cell_type": "code",
   "execution_count": null,
   "metadata": {},
   "outputs": [],
   "source": []
  },
  {
   "cell_type": "code",
   "execution_count": null,
   "metadata": {},
   "outputs": [],
   "source": []
  }
 ],
 "metadata": {
  "kernelspec": {
   "display_name": "Python 3",
   "language": "python",
   "name": "python3"
  },
  "language_info": {
   "codemirror_mode": {
    "name": "ipython",
    "version": 3
   },
   "file_extension": ".py",
   "mimetype": "text/x-python",
   "name": "python",
   "nbconvert_exporter": "python",
   "pygments_lexer": "ipython3",
   "version": "3.11.2"
  },
  "orig_nbformat": 4
 },
 "nbformat": 4,
 "nbformat_minor": 2
}
