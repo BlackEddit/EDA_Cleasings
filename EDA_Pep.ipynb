{
 "cells": [
  {
   "cell_type": "code",
   "execution_count": 2,
   "metadata": {},
   "outputs": [],
   "source": [
    "import pandas as pd\n",
    "import numpy as np\n",
    "import matplotlib.pylab as plt\n",
    "import seaborn as sns\n",
    "\n",
    "\n",
    "#plt.style.use('ggplot')\n",
    "#pd.set_option('display.max_columns', 200) #It Help us to display it for example in the head to whatch every column, just in the exploration"
   ]
  },
  {
   "cell_type": "code",
   "execution_count": 6,
   "metadata": {},
   "outputs": [],
   "source": [
    "# encoding='ISO-8859-1, we need to use another encodig way, why\n",
    "df_pep = pd.read_csv('C:\\\\Users\\\\Edgar\\\\OneDrive\\\\Escritorio\\\\Data_and_ML\\\\Data_Analyst\\\\EDA\\\\Caso Práctico Financial Planning Analyst - MBS Cockpit.csv',encoding='ISO-8859-1')\n"
   ]
  },
  {
   "cell_type": "code",
   "execution_count": 8,
   "metadata": {},
   "outputs": [
    {
     "data": {
      "text/plain": [
       "(21745, 11)"
      ]
     },
     "execution_count": 8,
     "metadata": {},
     "output_type": "execute_result"
    }
   ],
   "source": [
    "df_pep.shape"
   ]
  },
  {
   "cell_type": "code",
   "execution_count": 10,
   "metadata": {},
   "outputs": [
    {
     "data": {
      "text/plain": [
       "Index(['Brand Cockpit - Level 1', 'Brand Cockpit - Level 2', 'Platform',\n",
       "       'Global / Local', 'MU', 'Category', 'Month', 'Year', 'Data', 'Scenario',\n",
       "       'Value'],\n",
       "      dtype='object')"
      ]
     },
     "execution_count": 10,
     "metadata": {},
     "output_type": "execute_result"
    }
   ],
   "source": [
    "df_pep.columns\n",
    "\n",
    "# 'Brand Cockpit - Level 1' - General\n",
    "# 'Brand Cockpit - Level 2' - Division\n",
    "# 'Platform'                - Camapana de marqueting\n",
    "# 'Global / Local',         - Si es de forma regional o global \n",
    "# 'MU'                      - Unidad de mercado / pais\n",
    "# 'Category'                - Frituras / Bebidas\n",
    "# 'Month'                   - 12 Jan - Dec\n",
    "# 'Year'                    - 2017 -\n",
    "# 'Data'                    - DESCONOCIDO, NO LOGRE DARLE UN SIGNIFICADO -\n",
    "# 'Scenario'                - 4\n",
    "# 'Value'                   - Resultado"
   ]
  },
  {
   "cell_type": "code",
   "execution_count": 12,
   "metadata": {},
   "outputs": [
    {
     "data": {
      "text/html": [
       "<div>\n",
       "<style scoped>\n",
       "    .dataframe tbody tr th:only-of-type {\n",
       "        vertical-align: middle;\n",
       "    }\n",
       "\n",
       "    .dataframe tbody tr th {\n",
       "        vertical-align: top;\n",
       "    }\n",
       "\n",
       "    .dataframe thead th {\n",
       "        text-align: right;\n",
       "    }\n",
       "</style>\n",
       "<table border=\"1\" class=\"dataframe\">\n",
       "  <thead>\n",
       "    <tr style=\"text-align: right;\">\n",
       "      <th></th>\n",
       "      <th>Brand Cockpit - Level 1</th>\n",
       "      <th>Brand Cockpit - Level 2</th>\n",
       "      <th>Platform</th>\n",
       "      <th>Global / Local</th>\n",
       "      <th>MU</th>\n",
       "      <th>Category</th>\n",
       "      <th>Month</th>\n",
       "      <th>Year</th>\n",
       "      <th>Data</th>\n",
       "      <th>Scenario</th>\n",
       "      <th>Value</th>\n",
       "    </tr>\n",
       "  </thead>\n",
       "  <tbody>\n",
       "    <tr>\n",
       "      <th>0</th>\n",
       "      <td>Lay's</td>\n",
       "      <td>PC Max</td>\n",
       "      <td>Build Lays Powerbrand</td>\n",
       "      <td>Global</td>\n",
       "      <td>France</td>\n",
       "      <td>Snacks</td>\n",
       "      <td>Oct</td>\n",
       "      <td>2017</td>\n",
       "      <td>NR</td>\n",
       "      <td>LY</td>\n",
       "      <td>-908,281.30</td>\n",
       "    </tr>\n",
       "    <tr>\n",
       "      <th>1</th>\n",
       "      <td>Lay's</td>\n",
       "      <td>PC Max</td>\n",
       "      <td>Build Lays Powerbrand</td>\n",
       "      <td>Global</td>\n",
       "      <td>France</td>\n",
       "      <td>Snacks</td>\n",
       "      <td>Nov</td>\n",
       "      <td>2017</td>\n",
       "      <td>NR</td>\n",
       "      <td>Actual</td>\n",
       "      <td>-889,898.70</td>\n",
       "    </tr>\n",
       "    <tr>\n",
       "      <th>2</th>\n",
       "      <td>Chipsy</td>\n",
       "      <td>Max</td>\n",
       "      <td>Build Lays Powerbrand</td>\n",
       "      <td>Local</td>\n",
       "      <td>Germany</td>\n",
       "      <td>Snacks</td>\n",
       "      <td>Sep</td>\n",
       "      <td>2017</td>\n",
       "      <td>NR</td>\n",
       "      <td>Fcst</td>\n",
       "      <td>-577,935.10</td>\n",
       "    </tr>\n",
       "  </tbody>\n",
       "</table>\n",
       "</div>"
      ],
      "text/plain": [
       "  Brand Cockpit - Level 1 Brand Cockpit - Level 2               Platform  \\\n",
       "0                   Lay's                  PC Max  Build Lays Powerbrand   \n",
       "1                   Lay's                  PC Max  Build Lays Powerbrand   \n",
       "2                  Chipsy                     Max  Build Lays Powerbrand   \n",
       "\n",
       "  Global / Local       MU Category Month  Year Data Scenario        Value  \n",
       "0         Global   France   Snacks   Oct  2017   NR       LY  -908,281.30  \n",
       "1         Global   France   Snacks   Nov  2017   NR   Actual  -889,898.70  \n",
       "2          Local  Germany   Snacks   Sep  2017   NR     Fcst  -577,935.10  "
      ]
     },
     "execution_count": 12,
     "metadata": {},
     "output_type": "execute_result"
    }
   ],
   "source": [
    "df_pep.head(3)"
   ]
  },
  {
   "cell_type": "code",
   "execution_count": 11,
   "metadata": {},
   "outputs": [
    {
     "data": {
      "text/plain": [
       "Brand Cockpit - Level 1    object\n",
       "Brand Cockpit - Level 2    object\n",
       "Platform                   object\n",
       "Global / Local             object\n",
       "MU                         object\n",
       "Category                   object\n",
       "Month                      object\n",
       "Year                        int64\n",
       "Data                       object\n",
       "Scenario                   object\n",
       "Value                      object\n",
       "dtype: object"
      ]
     },
     "execution_count": 11,
     "metadata": {},
     "output_type": "execute_result"
    }
   ],
   "source": [
    "df_pep.dtypes"
   ]
  },
  {
   "cell_type": "code",
   "execution_count": 13,
   "metadata": {},
   "outputs": [
    {
     "data": {
      "text/html": [
       "<div>\n",
       "<style scoped>\n",
       "    .dataframe tbody tr th:only-of-type {\n",
       "        vertical-align: middle;\n",
       "    }\n",
       "\n",
       "    .dataframe tbody tr th {\n",
       "        vertical-align: top;\n",
       "    }\n",
       "\n",
       "    .dataframe thead th {\n",
       "        text-align: right;\n",
       "    }\n",
       "</style>\n",
       "<table border=\"1\" class=\"dataframe\">\n",
       "  <thead>\n",
       "    <tr style=\"text-align: right;\">\n",
       "      <th></th>\n",
       "      <th>Year</th>\n",
       "    </tr>\n",
       "  </thead>\n",
       "  <tbody>\n",
       "    <tr>\n",
       "      <th>count</th>\n",
       "      <td>21745.0</td>\n",
       "    </tr>\n",
       "    <tr>\n",
       "      <th>mean</th>\n",
       "      <td>2017.0</td>\n",
       "    </tr>\n",
       "    <tr>\n",
       "      <th>std</th>\n",
       "      <td>0.0</td>\n",
       "    </tr>\n",
       "    <tr>\n",
       "      <th>min</th>\n",
       "      <td>2017.0</td>\n",
       "    </tr>\n",
       "    <tr>\n",
       "      <th>25%</th>\n",
       "      <td>2017.0</td>\n",
       "    </tr>\n",
       "    <tr>\n",
       "      <th>50%</th>\n",
       "      <td>2017.0</td>\n",
       "    </tr>\n",
       "    <tr>\n",
       "      <th>75%</th>\n",
       "      <td>2017.0</td>\n",
       "    </tr>\n",
       "    <tr>\n",
       "      <th>max</th>\n",
       "      <td>2017.0</td>\n",
       "    </tr>\n",
       "  </tbody>\n",
       "</table>\n",
       "</div>"
      ],
      "text/plain": [
       "          Year\n",
       "count  21745.0\n",
       "mean    2017.0\n",
       "std        0.0\n",
       "min     2017.0\n",
       "25%     2017.0\n",
       "50%     2017.0\n",
       "75%     2017.0\n",
       "max     2017.0"
      ]
     },
     "execution_count": 13,
     "metadata": {},
     "output_type": "execute_result"
    }
   ],
   "source": [
    "df_pep.describe() # Solo es sobre el a;o 2017, entonces no hay mucho que meterle en a;os"
   ]
  },
  {
   "cell_type": "code",
   "execution_count": 19,
   "metadata": {},
   "outputs": [
    {
     "data": {
      "text/plain": [
       "<DatetimeArray>\n",
       "['2017-10-01 00:00:00', '2017-11-01 00:00:00', '2017-09-01 00:00:00',\n",
       " '2017-04-01 00:00:00', '2017-02-01 00:00:00', '2017-03-01 00:00:00',\n",
       " '2017-01-01 00:00:00', '2017-12-01 00:00:00', '2017-05-01 00:00:00',\n",
       " '2017-08-01 00:00:00', '2017-07-01 00:00:00', '2017-06-01 00:00:00']\n",
       "Length: 12, dtype: datetime64[ns]"
      ]
     },
     "execution_count": 19,
     "metadata": {},
     "output_type": "execute_result"
    }
   ],
   "source": [
    "df_pep.Month.unique()\n",
    "#df_pep.Year.unique()"
   ]
  },
  {
   "cell_type": "code",
   "execution_count": 15,
   "metadata": {},
   "outputs": [],
   "source": [
    "#Cambio de formato de el formato de tiempo\n",
    "df_pep['Month'] = pd.to_datetime(df_pep['Month'] + '-2017', format='%b-%Y')\n"
   ]
  },
  {
   "cell_type": "code",
   "execution_count": 16,
   "metadata": {},
   "outputs": [
    {
     "data": {
      "text/plain": [
       "Brand Cockpit - Level 1            object\n",
       "Brand Cockpit - Level 2            object\n",
       "Platform                           object\n",
       "Global / Local                     object\n",
       "MU                                 object\n",
       "Category                           object\n",
       "Month                      datetime64[ns]\n",
       "Year                                int64\n",
       "Data                               object\n",
       "Scenario                           object\n",
       "Value                              object\n",
       "dtype: object"
      ]
     },
     "execution_count": 16,
     "metadata": {},
     "output_type": "execute_result"
    }
   ],
   "source": [
    "df_pep.dtypes"
   ]
  },
  {
   "cell_type": "code",
   "execution_count": 23,
   "metadata": {},
   "outputs": [],
   "source": [
    "#To avoid some problems lets gonna add _ inetead of spaces\n",
    "df_pep_new = df_pep.rename(columns={\n",
    "    'Brand Cockpit - Level 1': 'Brand_Cockpit_L1', \n",
    "    'Brand Cockpit - Level 2': 'Brand_Cockpit_L2',\n",
    "    'Global / Local' : 'Global/Local', \n",
    "    'MU': 'Marquet_Unit'\n",
    "})"
   ]
  },
  {
   "cell_type": "code",
   "execution_count": 24,
   "metadata": {},
   "outputs": [
    {
     "data": {
      "text/plain": [
       "Index(['Brand_Cockpit_L1', 'Brand_Cockpit_L2', 'Platform', 'Global/Local',\n",
       "       'Marquet_Unit', 'Category', 'Month', 'Year', 'Data', 'Scenario',\n",
       "       'Value'],\n",
       "      dtype='object')"
      ]
     },
     "execution_count": 24,
     "metadata": {},
     "output_type": "execute_result"
    }
   ],
   "source": [
    "df_pep_new.columns"
   ]
  },
  {
   "cell_type": "markdown",
   "metadata": {},
   "source": [
    "# Searching for NaN or NULL values"
   ]
  },
  {
   "cell_type": "code",
   "execution_count": 26,
   "metadata": {},
   "outputs": [
    {
     "data": {
      "text/plain": [
       "Brand_Cockpit_L1    0\n",
       "Brand_Cockpit_L2    0\n",
       "Platform            0\n",
       "Global/Local        0\n",
       "Marquet_Unit        0\n",
       "Category            0\n",
       "Month               0\n",
       "Year                0\n",
       "Data                0\n",
       "Scenario            0\n",
       "Value               0\n",
       "dtype: int64"
      ]
     },
     "execution_count": 26,
     "metadata": {},
     "output_type": "execute_result"
    }
   ],
   "source": [
    "#Supuestamente no tenemos valures NULL O NaN\n",
    "df_pep_new.isna().sum()\n",
    "df_pep_new.isnull().sum()"
   ]
  },
  {
   "cell_type": "code",
   "execution_count": 28,
   "metadata": {},
   "outputs": [
    {
     "data": {
      "text/plain": [
       "0"
      ]
     },
     "execution_count": 28,
     "metadata": {},
     "output_type": "execute_result"
    }
   ],
   "source": [
    "#Tampoco hay duplicados, \n",
    "df_pep_new.duplicated().sum()"
   ]
  },
  {
   "cell_type": "markdown",
   "metadata": {},
   "source": [
    "## Reviwe abouth each column"
   ]
  },
  {
   "cell_type": "markdown",
   "metadata": {},
   "source": [
    "### Brand_Cockpit_L1"
   ]
  },
  {
   "cell_type": "code",
   "execution_count": 40,
   "metadata": {},
   "outputs": [
    {
     "name": "stdout",
     "output_type": "stream",
     "text": [
      "29\n",
      "[\"Lay's\" 'Chipsy' 'Balance' 'Quaker' 'Lipton' 'Star' 'Cheetos' 'Krax'\n",
      " 'Other Global' 'Other Energy' 'Other CSD' '7up' 'Pepsi' 'Mountain Dew'\n",
      " 'Sweet' 'Mirinda' 'Chipita' 'Twistos' 'Doritos' 'Sunbites' 'Other Water'\n",
      " 'Mr. Snaki' 'Pardon' 'Ruffles' 'GUD' 'Other Juice' 'Tasty' 'Yedigun'\n",
      " 'Clipsy']\n"
     ]
    },
    {
     "data": {
      "image/png": "[encoded data removed]",
      "text/plain": [
       "<Figure size 640x480 with 1 Axes>"
      ]
     },
     "metadata": {},
     "output_type": "display_data"
    }
   ],
   "source": [
    "counts_BCL1 = df_pep_new['Brand_Cockpit_L1'].value_counts()\n",
    "print(df_pep_new['Brand_Cockpit_L1'].nunique())\n",
    "print(df_pep_new['Brand_Cockpit_L1'].unique())\n",
    "\n",
    "\n",
    "ax = counts_BCL1.plot(kind = 'bar')\n",
    "\n",
    "# Hay varios que dicen otros que deberiamos hacer con ellos para la presentacion"
   ]
  },
  {
   "cell_type": "code",
   "execution_count": 41,
   "metadata": {},
   "outputs": [
    {
     "name": "stdout",
     "output_type": "stream",
     "text": [
      "       Brand_Cockpit_L1   Brand_Cockpit_L2 Platform Global/Local Marquet_Unit  \\\n",
      "count             21745              21745    21745        21745        21745   \n",
      "unique               29                 80        9            2            9   \n",
      "top               Lay's  Extruded / Pellet    Other       Global        Spain   \n",
      "freq               3250               1070     5601        13905         4892   \n",
      "mean                NaN                NaN      NaN          NaN          NaN   \n",
      "min                 NaN                NaN      NaN          NaN          NaN   \n",
      "25%                 NaN                NaN      NaN          NaN          NaN   \n",
      "50%                 NaN                NaN      NaN          NaN          NaN   \n",
      "75%                 NaN                NaN      NaN          NaN          NaN   \n",
      "max                 NaN                NaN      NaN          NaN          NaN   \n",
      "std                 NaN                NaN      NaN          NaN          NaN   \n",
      "\n",
      "         Category                          Month     Year   Data Scenario  \\\n",
      "count       21745                          21745  21745.0  21745    21745   \n",
      "unique          2                            NaN      NaN      2        4   \n",
      "top     Beverages                            NaN      NaN    Vol   Actual   \n",
      "freq        11037                            NaN      NaN  11108     5547   \n",
      "mean          NaN  2017-06-16 07:22:37.719015936   2017.0    NaN      NaN   \n",
      "min           NaN            2017-01-01 00:00:00   2017.0    NaN      NaN   \n",
      "25%           NaN            2017-03-01 00:00:00   2017.0    NaN      NaN   \n",
      "50%           NaN            2017-06-01 00:00:00   2017.0    NaN      NaN   \n",
      "75%           NaN            2017-10-01 00:00:00   2017.0    NaN      NaN   \n",
      "max           NaN            2017-12-01 00:00:00   2017.0    NaN      NaN   \n",
      "std           NaN                            NaN      0.0    NaN      NaN   \n",
      "\n",
      "        Value  \n",
      "count   21745  \n",
      "unique  18527  \n",
      "top      -0.3  \n",
      "freq        6  \n",
      "mean      NaN  \n",
      "min       NaN  \n",
      "25%       NaN  \n",
      "50%       NaN  \n",
      "75%       NaN  \n",
      "max       NaN  \n",
      "std       NaN  \n"
     ]
    }
   ],
   "source": [
    "print(df_pep_new.describe(include='all'))\n"
   ]
  },
  {
   "cell_type": "markdown",
   "metadata": {},
   "source": [
    "### Brand_Cockpit_l2"
   ]
  },
  {
   "cell_type": "code",
   "execution_count": 49,
   "metadata": {},
   "outputs": [
    {
     "name": "stdout",
     "output_type": "stream",
     "text": [
      "80\n",
      "['PC Max' 'Max' 'Fournista' 'Oats' 'Lipton' 'Popcorn' 'Extruded / Pellet'\n",
      " 'PC Stix' 'Lipton [green]' 'Krax' 'Gatorade ' 'Bars' 'Scoops' 'RockStar'\n",
      " 'Evervess' 'PC Baked' '7-up - Diet' 'Pepsi Max' 'Mountain Dew'\n",
      " 'Snack A Jacks' 'Confectionary' 'Mirinda' 'Gum' 'MirindaFlav' 'Hyper'\n",
      " 'Sweets' '3D (Bugles)' 'Baked Rolls' 'Balance' 'Pepsi Light' 'N&S'\n",
      " 'Dippas' 'Cereals' 'Pretzel / Stick' 'Adrenalina Mountin Dew' 'Fritos'\n",
      " 'Slice' 'Grains' 'Water Gorska Natura/Krystalizne Zrodlo' 'Mr. Snaki'\n",
      " 'Toma Water' 'Aqua Vita' 'Tropicana' 'Pepsi Twist' 'Bits' 'Ruffles'\n",
      " 'Sweet' 'Quavers' 'Core' 'GUD' 'IVI Juices' 'Toma Still Drink' 'Cracker'\n",
      " 'Like Cola' 'Cereals-Oats' '7-up' 'Private Label' 'PC V-Cut' 'PC Strong'\n",
      " 'Yedigun' 'PC Core' 'Elite Popcorn' 'Schweppes' 'IVI Local flavors'\n",
      " 'Roua' 'Reg. Pepsi' 'Elite Crunch' '7-up - Flav' 'Toma Juice' 'Tapuchips'\n",
      " 'Ferrero' 'Pepsi Black' 'Crackers' 'Ridged PC' 'RTE' 'Kristalyv¡z' 'PC'\n",
      " 'Bucovina' 'Prigat' 'Core PC']\n",
      "\n",
      " + 21745\n"
     ]
    }
   ],
   "source": [
    "counts_BCL1 = df_pep_new['Brand_Cockpit_L2'].value_counts()\n",
    "print(df_pep_new['Brand_Cockpit_L2'].nunique())\n",
    "\n",
    "print(df_pep_new['Brand_Cockpit_L2'].unique())\n",
    "\n",
    "print(f'\\n   {len(df_pep_new)}')\n"
   ]
  },
  {
   "cell_type": "markdown",
   "metadata": {},
   "source": [
    "### Rest of them"
   ]
  },
  {
   "cell_type": "code",
   "execution_count": 50,
   "metadata": {},
   "outputs": [
    {
     "data": {
      "text/plain": [
       "Index(['Brand_Cockpit_L1', 'Brand_Cockpit_L2', 'Platform', 'Global/Local',\n",
       "       'Marquet_Unit', 'Category', 'Month', 'Year', 'Data', 'Scenario',\n",
       "       'Value'],\n",
       "      dtype='object')"
      ]
     },
     "execution_count": 50,
     "metadata": {},
     "output_type": "execute_result"
    }
   ],
   "source": [
    "df_pep_new.columns"
   ]
  },
  {
   "cell_type": "code",
   "execution_count": 64,
   "metadata": {},
   "outputs": [
    {
     "name": "stdout",
     "output_type": "stream",
     "text": [
      "0\n"
     ]
    },
    {
     "data": {
      "text/plain": [
       "12"
      ]
     },
     "execution_count": 64,
     "metadata": {},
     "output_type": "execute_result"
    }
   ],
   "source": [
    "df_pep_new.Platform.unique()\n",
    "print(df_pep_new.Platform.isna().sum())\n",
    "\n",
    "df_pep_new.Marquet_Unit.unique()\n",
    "df_pep_new.Marquet_Unit.isnull().sum()\n",
    "\n",
    "df_pep_new.Month.nunique()"
   ]
  },
  {
   "cell_type": "code",
   "execution_count": 70,
   "metadata": {},
   "outputs": [
    {
     "data": {
      "text/plain": [
       "18527"
      ]
     },
     "execution_count": 70,
     "metadata": {},
     "output_type": "execute_result"
    }
   ],
   "source": [
    "df_pep_new.Value.isna().sum()\n",
    "df_pep_new.Value.nunique()"
   ]
  },
  {
   "cell_type": "markdown",
   "metadata": {},
   "source": [
    "# Graphs"
   ]
  },
  {
   "cell_type": "code",
   "execution_count": 71,
   "metadata": {},
   "outputs": [
    {
     "data": {
      "text/plain": [
       "Index(['Brand_Cockpit_L1', 'Brand_Cockpit_L2', 'Platform', 'Global/Local',\n",
       "       'Marquet_Unit', 'Category', 'Month', 'Year', 'Data', 'Scenario',\n",
       "       'Value'],\n",
       "      dtype='object')"
      ]
     },
     "execution_count": 71,
     "metadata": {},
     "output_type": "execute_result"
    }
   ],
   "source": [
    "df_pep_new.columns"
   ]
  },
  {
   "cell_type": "code",
   "execution_count": 74,
   "metadata": {},
   "outputs": [
    {
     "data": {
      "image/png": "[encoded data removed]",
      "text/plain": [
       "<Figure size 640x480 with 1 Axes>"
      ]
     },
     "metadata": {},
     "output_type": "display_data"
    }
   ],
   "source": [
    "# Generate the cross-tabulation plot\n",
    "sns.countplot(data=df_pep_new, x='Global/Local', hue='Category')\n",
    "plt.title('Cross-tabulation of Global/Local and Category')\n",
    "plt.show()\n",
    "\n",
    "#cuantas vece aparece esa combinacion, vemos que la a nivel global\n",
    "# hay una mayor representacion del las bebidas mientras\n",
    "# que a nivel local hay un nivel mas representativo o mayor interes por los \n",
    "#snacks"
   ]
  },
  {
   "cell_type": "code",
   "execution_count": null,
   "metadata": {},
   "outputs": [],
   "source": [
    "# Local Focus on Snacks: Most local campaigns are concentrated in \n",
    "# the \"Snacks\" category. This could mean that snacks are more responsive to local tastes and preferences. 🍿\n",
    "\n"
   ]
  },
  {
   "cell_type": "code",
   "execution_count": 75,
   "metadata": {},
   "outputs": [
    {
     "data": {
      "image/png": "[encoded data removed]",
      "text/plain": [
       "<Figure size 640x480 with 1 Axes>"
      ]
     },
     "metadata": {},
     "output_type": "display_data"
    }
   ],
   "source": [
    "# Convert the 'Value' column to a numerical data type\n",
    "df_pep_new['Value'] = df_pep_new['Value'].str.replace(',', '').astype(float)\n",
    "\n",
    "# Generate the boxplot\n",
    "sns.boxplot(data=df_pep_new, x='Category', y='Value')\n",
    "plt.title('Boxplot of Value by Category')\n",
    "plt.show()\n"
   ]
  },
  {
   "cell_type": "code",
   "execution_count": null,
   "metadata": {},
   "outputs": [],
   "source": [
    "# Variabilidad Grande en \"Snacks\" y \"Beverages\": Esto puede indicar que hay campañas de marketing que están funcionando excepcionalmente\n",
    "# bien para ciertos productos dentro de estas categorías, pero también hay productos que no están teniendo un buen rendimiento. \n",
    "# Aquí podrías investigar más para entender \n",
    "# cuáles son los productos estrella 🌟 y cuáles necesitan una revisión de estrategia.\n",
    "\n",
    "\n",
    "# Presencia de Outliers: Estos puntos fuera de lo común pueden ser tanto una señal de alerta como una oportunidad. Podrían representar\n",
    "# productos que superaron las expectativas o campañas que fracasaron estrepitosamente. En ambos casos, merecen una investigación \n",
    "# más profunda para replicar éxitos o evitar futuros fracasos.\n",
    "\n",
    "# Tendencia Central y Sesgo: Si observamos que el valor mediano está más cercano a un extremo del \n",
    "# boxplot, esto podría indicar que la mayoría de tus campañas se agrupan en un rango de rendimiento específico.\n",
    "# Por ejemplo, si el sesgo es positivo, la mayoría de tus campañas podrían estar sub-rendimiento, lo que sería una señal para revisar las estrategias"
   ]
  },
  {
   "cell_type": "markdown",
   "metadata": {},
   "source": [
    "# Solving Some asks"
   ]
  },
  {
   "cell_type": "markdown",
   "metadata": {},
   "source": [
    "## Which is the category which represent more incomes"
   ]
  },
  {
   "cell_type": "code",
   "execution_count": 81,
   "metadata": {},
   "outputs": [
    {
     "data": {
      "text/plain": [
       "Index(['Brand_Cockpit_L1', 'Brand_Cockpit_L2', 'Platform', 'Global/Local',\n",
       "       'Marquet_Unit', 'Category', 'Month', 'Year', 'Data', 'Scenario',\n",
       "       'Value'],\n",
       "      dtype='object')"
      ]
     },
     "execution_count": 81,
     "metadata": {},
     "output_type": "execute_result"
    }
   ],
   "source": [
    "df_pep_new.columns"
   ]
  },
  {
   "cell_type": "code",
   "execution_count": 90,
   "metadata": {},
   "outputs": [
    {
     "data": {
      "image/png": "[encoded data removed]",
      "text/plain": [
       "<Figure size 600x600 with 1 Axes>"
      ]
     },
     "metadata": {},
     "output_type": "display_data"
    },
    {
     "data": {
      "image/png": "[encoded data removed]",
      "text/plain": [
       "<Figure size 500x500 with 1 Axes>"
      ]
     },
     "metadata": {},
     "output_type": "display_data"
    }
   ],
   "source": [
    "# Calculating the total income for each category\n",
    "category_income = df_pep_new.groupby('Category')['Value'].sum().reset_index().sort_values(by='Value', ascending=False)\n",
    "#print(category_income)\n",
    "\n",
    "# Creating different plots to represent which category has more income\n",
    "\n",
    "# # Bar Plot\n",
    "plt.figure(figsize=(6, 6))\n",
    "sns.barplot(x='Category', y='Value', data=category_income)\n",
    "plt.title('Total Income by Category (Bar Plot)')\n",
    "#plt.xticks(rotation=45)\n",
    "plt.ylabel('Billions')\n",
    "plt.show()\n",
    "\n",
    "# # Pie Chart\n",
    "plt.figure(figsize=(5, 5))\n",
    "plt.pie(category_income['Value'], labels=category_income['Category'], autopct='%1.1f%%', startangle=90)\n",
    "plt.title('Total Income by Category (Pie Chart)')\n",
    "plt.axis('equal')  # Equal aspect ratio ensures that pie is drawn as a circle.\n",
    "plt.show()\n",
    "\n",
    "# # Print the sorted data for a textual understanding\n",
    "# print(\"Total income for each category:\")\n",
    "# print(category_income)\n"
   ]
  },
  {
   "cell_type": "code",
   "execution_count": 93,
   "metadata": {},
   "outputs": [
    {
     "data": {
      "text/plain": [
       "array(['LY', 'Actual', 'Fcst', 'Plan'], dtype=object)"
      ]
     },
     "execution_count": 93,
     "metadata": {},
     "output_type": "execute_result"
    }
   ],
   "source": [
    "df_pep_new.Scenario.unique()"
   ]
  },
  {
   "cell_type": "code",
   "execution_count": null,
   "metadata": {},
   "outputs": [],
   "source": [
    "C:\\Users\\Edgar\\OneDrive\\Escritorio\\Data_and_ML\\Data_Analyst\\EDA\\Caso Práctico Financial Planning Analyst - MBS Cockpit.csv"
   ]
  }
 ],
 "metadata": {
  "kernelspec": {
   "display_name": "Python 3",
   "language": "python",
   "name": "python3"
  },
  "language_info": {
   "codemirror_mode": {
    "name": "ipython",
    "version": 3
   },
   "file_extension": ".py",
   "mimetype": "text/x-python",
   "name": "python",
   "nbconvert_exporter": "python",
   "pygments_lexer": "ipython3",
   "version": "3.11.2"
  },
  "orig_nbformat": 4
 },
 "nbformat": 4,
 "nbformat_minor": 2
}
