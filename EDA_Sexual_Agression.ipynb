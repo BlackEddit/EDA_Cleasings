{
 "cells": [
  {
   "cell_type": "code",
   "execution_count": 1,
   "metadata": {},
   "outputs": [],
   "source": [
    "# import libraries to work\n",
    "import pandas as pd\n",
    "import numpy as np\n",
    "import matplotlib.pylab as plt\n",
    "import seaborn as sns\n",
    "\n"
   ]
  },
  {
   "cell_type": "markdown",
   "metadata": {},
   "source": [
    "# Limpieza de Datos:"
   ]
  },
  {
   "cell_type": "code",
   "execution_count": 2,
   "metadata": {},
   "outputs": [],
   "source": [
    "df_sex_agreson = pd.read_csv('Sexual_Agression.csv')"
   ]
  },
  {
   "cell_type": "code",
   "execution_count": 4,
   "metadata": {},
   "outputs": [
    {
     "data": {
      "text/plain": [
       "(1727, 11)"
      ]
     },
     "execution_count": 4,
     "metadata": {},
     "output_type": "execute_result"
    }
   ],
   "source": [
    "df_sex_agreson.shape"
   ]
  },
  {
   "cell_type": "code",
   "execution_count": 5,
   "metadata": {},
   "outputs": [
    {
     "data": {
      "text/html": [
       "<div>\n",
       "<style scoped>\n",
       "    .dataframe tbody tr th:only-of-type {\n",
       "        vertical-align: middle;\n",
       "    }\n",
       "\n",
       "    .dataframe tbody tr th {\n",
       "        vertical-align: top;\n",
       "    }\n",
       "\n",
       "    .dataframe thead th {\n",
       "        text-align: right;\n",
       "    }\n",
       "</style>\n",
       "<table border=\"1\" class=\"dataframe\">\n",
       "  <thead>\n",
       "    <tr style=\"text-align: right;\">\n",
       "      <th></th>\n",
       "      <th>2015</th>\n",
       "      <th>Puebla</th>\n",
       "      <th>Abuso sexual</th>\n",
       "      <th>Abuso sexual.1</th>\n",
       "      <th>0</th>\n",
       "      <th>0.1</th>\n",
       "      <th>0.2</th>\n",
       "      <th>0.3</th>\n",
       "      <th>0.4</th>\n",
       "      <th>0.5</th>\n",
       "      <th>0.6</th>\n",
       "    </tr>\n",
       "  </thead>\n",
       "  <tbody>\n",
       "    <tr>\n",
       "      <th>0</th>\n",
       "      <td>2015</td>\n",
       "      <td>Puebla</td>\n",
       "      <td>Acoso sexual</td>\n",
       "      <td>Acoso sexual</td>\n",
       "      <td>11</td>\n",
       "      <td>8</td>\n",
       "      <td>11</td>\n",
       "      <td>9</td>\n",
       "      <td>18</td>\n",
       "      <td>11</td>\n",
       "      <td>5</td>\n",
       "    </tr>\n",
       "    <tr>\n",
       "      <th>1</th>\n",
       "      <td>2015</td>\n",
       "      <td>Puebla</td>\n",
       "      <td>Hostigamiento sexual</td>\n",
       "      <td>Hostigamiento sexual</td>\n",
       "      <td>1</td>\n",
       "      <td>7</td>\n",
       "      <td>5</td>\n",
       "      <td>5</td>\n",
       "      <td>1</td>\n",
       "      <td>3</td>\n",
       "      <td>1</td>\n",
       "    </tr>\n",
       "    <tr>\n",
       "      <th>2</th>\n",
       "      <td>2015</td>\n",
       "      <td>Puebla</td>\n",
       "      <td>Violaci�n simple</td>\n",
       "      <td>Violaci�n simple</td>\n",
       "      <td>43</td>\n",
       "      <td>28</td>\n",
       "      <td>30</td>\n",
       "      <td>27</td>\n",
       "      <td>36</td>\n",
       "      <td>33</td>\n",
       "      <td>44</td>\n",
       "    </tr>\n",
       "    <tr>\n",
       "      <th>3</th>\n",
       "      <td>2015</td>\n",
       "      <td>Puebla</td>\n",
       "      <td>Violaci�n equiparada</td>\n",
       "      <td>Violaci�n equiparada</td>\n",
       "      <td>8</td>\n",
       "      <td>11</td>\n",
       "      <td>11</td>\n",
       "      <td>14</td>\n",
       "      <td>7</td>\n",
       "      <td>12</td>\n",
       "      <td>7</td>\n",
       "    </tr>\n",
       "    <tr>\n",
       "      <th>4</th>\n",
       "      <td>2015</td>\n",
       "      <td>Puebla</td>\n",
       "      <td>Otros delitos que atentan contra la libertad y...</td>\n",
       "      <td>Otros delitos que atentan contra la libertad y...</td>\n",
       "      <td>49</td>\n",
       "      <td>62</td>\n",
       "      <td>63</td>\n",
       "      <td>83</td>\n",
       "      <td>58</td>\n",
       "      <td>77</td>\n",
       "      <td>49</td>\n",
       "    </tr>\n",
       "    <tr>\n",
       "      <th>5</th>\n",
       "      <td>2015</td>\n",
       "      <td>Queretaro</td>\n",
       "      <td>Abuso sexual</td>\n",
       "      <td>Abuso sexual</td>\n",
       "      <td>20</td>\n",
       "      <td>13</td>\n",
       "      <td>14</td>\n",
       "      <td>25</td>\n",
       "      <td>25</td>\n",
       "      <td>17</td>\n",
       "      <td>21</td>\n",
       "    </tr>\n",
       "    <tr>\n",
       "      <th>6</th>\n",
       "      <td>2015</td>\n",
       "      <td>Queretaro</td>\n",
       "      <td>Acoso sexual</td>\n",
       "      <td>Acoso sexual</td>\n",
       "      <td>5</td>\n",
       "      <td>1</td>\n",
       "      <td>0</td>\n",
       "      <td>0</td>\n",
       "      <td>3</td>\n",
       "      <td>3</td>\n",
       "      <td>0</td>\n",
       "    </tr>\n",
       "    <tr>\n",
       "      <th>7</th>\n",
       "      <td>2015</td>\n",
       "      <td>Queretaro</td>\n",
       "      <td>Hostigamiento sexual</td>\n",
       "      <td>Hostigamiento sexual</td>\n",
       "      <td>0</td>\n",
       "      <td>0</td>\n",
       "      <td>0</td>\n",
       "      <td>0</td>\n",
       "      <td>0</td>\n",
       "      <td>0</td>\n",
       "      <td>0</td>\n",
       "    </tr>\n",
       "    <tr>\n",
       "      <th>8</th>\n",
       "      <td>2015</td>\n",
       "      <td>Queretaro</td>\n",
       "      <td>Violaci�n simple</td>\n",
       "      <td>Violaci�n simple</td>\n",
       "      <td>17</td>\n",
       "      <td>11</td>\n",
       "      <td>30</td>\n",
       "      <td>25</td>\n",
       "      <td>31</td>\n",
       "      <td>22</td>\n",
       "      <td>29</td>\n",
       "    </tr>\n",
       "    <tr>\n",
       "      <th>9</th>\n",
       "      <td>2015</td>\n",
       "      <td>Queretaro</td>\n",
       "      <td>Violaci�n equiparada</td>\n",
       "      <td>Violaci�n equiparada</td>\n",
       "      <td>1</td>\n",
       "      <td>3</td>\n",
       "      <td>3</td>\n",
       "      <td>2</td>\n",
       "      <td>1</td>\n",
       "      <td>2</td>\n",
       "      <td>3</td>\n",
       "    </tr>\n",
       "  </tbody>\n",
       "</table>\n",
       "</div>"
      ],
      "text/plain": [
       "   2015     Puebla                                       Abuso sexual  \\\n",
       "0  2015     Puebla                                       Acoso sexual   \n",
       "1  2015     Puebla                               Hostigamiento sexual   \n",
       "2  2015     Puebla                                   Violaci�n simple   \n",
       "3  2015     Puebla                               Violaci�n equiparada   \n",
       "4  2015     Puebla  Otros delitos que atentan contra la libertad y...   \n",
       "5  2015  Queretaro                                       Abuso sexual   \n",
       "6  2015  Queretaro                                       Acoso sexual   \n",
       "7  2015  Queretaro                               Hostigamiento sexual   \n",
       "8  2015  Queretaro                                   Violaci�n simple   \n",
       "9  2015  Queretaro                               Violaci�n equiparada   \n",
       "\n",
       "                                      Abuso sexual.1   0  0.1  0.2  0.3  0.4  \\\n",
       "0                                       Acoso sexual  11    8   11    9   18   \n",
       "1                               Hostigamiento sexual   1    7    5    5    1   \n",
       "2                                   Violaci�n simple  43   28   30   27   36   \n",
       "3                               Violaci�n equiparada   8   11   11   14    7   \n",
       "4  Otros delitos que atentan contra la libertad y...  49   62   63   83   58   \n",
       "5                                       Abuso sexual  20   13   14   25   25   \n",
       "6                                       Acoso sexual   5    1    0    0    3   \n",
       "7                               Hostigamiento sexual   0    0    0    0    0   \n",
       "8                                   Violaci�n simple  17   11   30   25   31   \n",
       "9                               Violaci�n equiparada   1    3    3    2    1   \n",
       "\n",
       "   0.5  0.6  \n",
       "0   11    5  \n",
       "1    3    1  \n",
       "2   33   44  \n",
       "3   12    7  \n",
       "4   77   49  \n",
       "5   17   21  \n",
       "6    3    0  \n",
       "7    0    0  \n",
       "8   22   29  \n",
       "9    2    3  "
      ]
     },
     "execution_count": 5,
     "metadata": {},
     "output_type": "execute_result"
    }
   ],
   "source": [
    "df_sex_agreson.head(10)"
   ]
  },
  {
   "cell_type": "code",
   "execution_count": 6,
   "metadata": {},
   "outputs": [
    {
     "name": "stdout",
     "output_type": "stream",
     "text": [
      "<class 'pandas.core.frame.DataFrame'>\n",
      "RangeIndex: 1727 entries, 0 to 1726\n",
      "Data columns (total 11 columns):\n",
      " #   Column          Non-Null Count  Dtype \n",
      "---  ------          --------------  ----- \n",
      " 0   2015            1727 non-null   int64 \n",
      " 1   Puebla          1727 non-null   object\n",
      " 2   Abuso sexual    1727 non-null   object\n",
      " 3   Abuso sexual.1  1727 non-null   object\n",
      " 4   0               1727 non-null   int64 \n",
      " 5   0.1             1727 non-null   int64 \n",
      " 6   0.2             1727 non-null   int64 \n",
      " 7   0.3             1727 non-null   int64 \n",
      " 8   0.4             1727 non-null   int64 \n",
      " 9   0.5             1727 non-null   int64 \n",
      " 10  0.6             1727 non-null   int64 \n",
      "dtypes: int64(8), object(3)\n",
      "memory usage: 148.5+ KB\n"
     ]
    }
   ],
   "source": [
    "#Hay que susituir todos los ?\n",
    "df_sex_agreson.info()"
   ]
  },
  {
   "cell_type": "code",
   "execution_count": 7,
   "metadata": {},
   "outputs": [
    {
     "data": {
      "text/plain": [
       "Index(['2015', 'Puebla', 'Abuso sexual', 'Abuso sexual.1', '0', '0.1', '0.2',\n",
       "       '0.3', '0.4', '0.5', '0.6'],\n",
       "      dtype='object')"
      ]
     },
     "execution_count": 7,
     "metadata": {},
     "output_type": "execute_result"
    }
   ],
   "source": [
    "df_sex_agreson.columns\n",
    "# Los nombres no se exportaron correctamente"
   ]
  },
  {
   "cell_type": "code",
   "execution_count": 8,
   "metadata": {},
   "outputs": [],
   "source": [
    "#Cambio de el nombre de las columnas, o mejor dicho establecer el nombre de columas\n",
    "df_sex_agreson.columns = ['A_o', 'Estado', 'Tipo_de_abuso', 'Subtipo_de_Abuso', 'Enero', 'Febrero', 'Marzo', 'Abril', 'Mayo', 'Junio', 'Julio']"
   ]
  },
  {
   "cell_type": "code",
   "execution_count": 10,
   "metadata": {},
   "outputs": [
    {
     "data": {
      "text/html": [
       "<div>\n",
       "<style scoped>\n",
       "    .dataframe tbody tr th:only-of-type {\n",
       "        vertical-align: middle;\n",
       "    }\n",
       "\n",
       "    .dataframe tbody tr th {\n",
       "        vertical-align: top;\n",
       "    }\n",
       "\n",
       "    .dataframe thead th {\n",
       "        text-align: right;\n",
       "    }\n",
       "</style>\n",
       "<table border=\"1\" class=\"dataframe\">\n",
       "  <thead>\n",
       "    <tr style=\"text-align: right;\">\n",
       "      <th></th>\n",
       "      <th>A_o</th>\n",
       "      <th>Estado</th>\n",
       "      <th>Tipo_de_abuso</th>\n",
       "      <th>Subtipo_de_Abuso</th>\n",
       "      <th>Enero</th>\n",
       "      <th>Febrero</th>\n",
       "      <th>Marzo</th>\n",
       "      <th>Abril</th>\n",
       "      <th>Mayo</th>\n",
       "      <th>Junio</th>\n",
       "      <th>Julio</th>\n",
       "    </tr>\n",
       "  </thead>\n",
       "  <tbody>\n",
       "    <tr>\n",
       "      <th>0</th>\n",
       "      <td>2015</td>\n",
       "      <td>Puebla</td>\n",
       "      <td>Acoso sexual</td>\n",
       "      <td>Acoso sexual</td>\n",
       "      <td>11</td>\n",
       "      <td>8</td>\n",
       "      <td>11</td>\n",
       "      <td>9</td>\n",
       "      <td>18</td>\n",
       "      <td>11</td>\n",
       "      <td>5</td>\n",
       "    </tr>\n",
       "  </tbody>\n",
       "</table>\n",
       "</div>"
      ],
      "text/plain": [
       "    A_o  Estado Tipo_de_abuso Subtipo_de_Abuso  Enero  Febrero  Marzo  Abril  \\\n",
       "0  2015  Puebla  Acoso sexual     Acoso sexual     11        8     11      9   \n",
       "\n",
       "   Mayo  Junio  Julio  \n",
       "0    18     11      5  "
      ]
     },
     "execution_count": 10,
     "metadata": {},
     "output_type": "execute_result"
    }
   ],
   "source": [
    "df_sex_agreson.head(1)"
   ]
  },
  {
   "cell_type": "markdown",
   "metadata": {},
   "source": [
    "### Revision de ISNULL - ISNAN"
   ]
  },
  {
   "cell_type": "code",
   "execution_count": 15,
   "metadata": {},
   "outputs": [
    {
     "data": {
      "text/plain": [
       "A_o                 0\n",
       "Estado              0\n",
       "Tipo_de_abuso       0\n",
       "Subtipo_de_Abuso    0\n",
       "Enero               0\n",
       "Febrero             0\n",
       "Marzo               0\n",
       "Abril               0\n",
       "Mayo                0\n",
       "Junio               0\n",
       "Julio               0\n",
       "dtype: int64"
      ]
     },
     "execution_count": 15,
     "metadata": {},
     "output_type": "execute_result"
    }
   ],
   "source": [
    "df_sex_agreson.isnull().sum() # cuidado con usar count, ya que cuenta los valores o filas\n"
   ]
  },
  {
   "cell_type": "markdown",
   "metadata": {},
   "source": [
    "### Revision de unique values"
   ]
  },
  {
   "cell_type": "code",
   "execution_count": 16,
   "metadata": {},
   "outputs": [
    {
     "data": {
      "text/plain": [
       "Index(['A_o', 'Estado', 'Tipo_de_abuso', 'Subtipo_de_Abuso', 'Enero',\n",
       "       'Febrero', 'Marzo', 'Abril', 'Mayo', 'Junio', 'Julio'],\n",
       "      dtype='object')"
      ]
     },
     "execution_count": 16,
     "metadata": {},
     "output_type": "execute_result"
    }
   ],
   "source": [
    "df_sex_agreson.columns"
   ]
  },
  {
   "cell_type": "code",
   "execution_count": 17,
   "metadata": {},
   "outputs": [
    {
     "data": {
      "text/plain": [
       "array([2015, 2016, 2017, 2018, 2019, 2020, 2021, 2022, 2023], dtype=int64)"
      ]
     },
     "execution_count": 17,
     "metadata": {},
     "output_type": "execute_result"
    }
   ],
   "source": [
    "df_sex_agreson.A_o.unique()\n",
    "#df_sex_agreson.A_o.nunique()"
   ]
  },
  {
   "cell_type": "code",
   "execution_count": 20,
   "metadata": {},
   "outputs": [
    {
     "data": {
      "text/plain": [
       "32"
      ]
     },
     "execution_count": 20,
     "metadata": {},
     "output_type": "execute_result"
    }
   ],
   "source": [
    "df_sex_agreson.Estado.unique()\n",
    "#df_sex_agreson.Estado.nunique()\n",
    "\n",
    "# Recuerda que este fue modificado, en la parte de SQL"
   ]
  }
 ],
 "metadata": {
  "kernelspec": {
   "display_name": "Python 3",
   "language": "python",
   "name": "python3"
  },
  "language_info": {
   "codemirror_mode": {
    "name": "ipython",
    "version": 3
   },
   "file_extension": ".py",
   "mimetype": "text/x-python",
   "name": "python",
   "nbconvert_exporter": "python",
   "pygments_lexer": "ipython3",
   "version": "3.11.2"
  },
  "orig_nbformat": 4
 },
 "nbformat": 4,
 "nbformat_minor": 2
}
